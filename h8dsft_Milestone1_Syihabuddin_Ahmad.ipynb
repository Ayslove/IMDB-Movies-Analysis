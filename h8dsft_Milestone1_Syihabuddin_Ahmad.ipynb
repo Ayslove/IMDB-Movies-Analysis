{
 "cells": [
  {
   "cell_type": "markdown",
   "metadata": {},
   "source": [
    "https://public.tableau.com/views/MovieData_17176868788770/MoviesData?:language=en-US&publish=yes&:sid=&:display_count=n&:origin=viz_share_link"
   ]
  },
  {
   "cell_type": "markdown",
   "metadata": {},
   "source": [
    "```py\n",
    "'''\n",
    "==================================================================================\n",
    "Milestone 1\n",
    "\n",
    "Nama  : Syihabuddin Ahmad Satisma\n",
    "Batch : HCK-017\n",
    "\n",
    "Program ini dibuat untuk melakukan analisa data yang terdapat dalam dataset.\n",
    "Tujuan dari program ini adalah untuk menganalisa faktor yang dapat menyebabkan\n",
    "naik atau turunnya suatu rating pada film.\n",
    "==================================================================================\n",
    "'''\n",
    "```"
   ]
  },
  {
   "cell_type": "markdown",
   "metadata": {},
   "source": [
    "<h1>Movies Dataset Analysis</h1>"
   ]
  },
  {
   "cell_type": "markdown",
   "metadata": {},
   "source": [
    "# Pendahuluan"
   ]
  },
  {
   "cell_type": "markdown",
   "metadata": {},
   "source": [
    "Pada era digital saat ini dunia perfilman sedang naik-naiknya, ditandai dengan banyaknya film yang muncul tiap tahunnya. Singkat cerita ada seorang sutradara yang hendak membuat film dan beliau menyampaikan bahwa akan membuat film dengan rating seminimal-minimalnya adalah 8, maka dari itu saya sebagai seorang <i>data analyst</i> harus bisa menyediakan sebuah data sesuai dengan apa yang dibutuhkan seorang user.\n",
    "\n",
    "Permasalahan pada kasus ini dapat dibentuk dengan metode analisa SMART, dengan penjabaran sebagai berikut:\n",
    "<ul>\n",
    "<li>Specific<br>\n",
    "Analisa apa yang mempengaruhi rating sebuah film supaya film yang akan dibuat memiliki rating yang bagus.<br><br></li>\n",
    "<li>Measurable<br>\n",
    "Seorang sutradara merencanakan membuat film dengan rating minimal 8 berdasarkan analisa yang sudah dibuat.<br><br></li>\n",
    "<li>Achievable<br>\n",
    "Tercapainya rating 8.0 berdasarkan analisa yang telah dilakukan.<br><br></li>\n",
    "<li>Relevant<br>\n",
    "Memiliki film dengan rating tinggi dapat menjadi daya tarik calon penonton untuk menonton film yang telah dibuat<br><br></li>\n",
    "<li>Time-bound<br>\n",
    "Projek ini diperkirakan akan selesai dalam 3 tahun untuk menghasilkan film dengan rating minimal 8.</li>\n",
    "</ul><br>\n",
    "Problem statement: Pembuatan sebuah film dalam waktu 3 tahun yang memiliki rating 8.0, berdasarkan analisa dari hal yang mempengaruhi tingginya rating pada sebuah film.\n",
    "\n",
    "Dalam menjawab problem statement yang sudah didefinisikan selanjutnya menjabarkan pertanyaan-pertanyaan yang relevan yang dapat membantu terjawabnya problem statement tersebut. Berikut beberapa pertanyaan yang dibuat untuk mendukung permasalahan yang sedang diteliti.\n",
    "<ol>\n",
    "<li>Berapa mean, median, mode, skewness dan kurtosis dari rating, meta score, votes, dan review count? (Statistik deskriptif)</li>\n",
    "<li>Pada tahun berapa nilai rata-rata rating paling tinggi dan film apa? (Visualisasi)</li>\n",
    "<li>Seberapa berpengaruhnya Director terhadap rating rata-rata suatu film? (Visualisasi)</li>\n",
    "<li>Genre apa yang paling banyak dibuat oleh 10 direktor teratas berdasarkan jumlah film yang dibuat?(Visualisasi)</li>\n",
    "<li>Pada tahun berapa jumlah pembuatan film terbanyak? (Visualisasi)</li>\n",
    "<li>Apakah rata-rata metascore mempengaruhi rata-rata rating? (Inferential)</li>\n",
    "</ol><br><br>"
   ]
  },
  {
   "cell_type": "markdown",
   "metadata": {},
   "source": [
    "# Data Loading"
   ]
  },
  {
   "cell_type": "markdown",
   "metadata": {},
   "source": [
    "## Data Eksplorasi"
   ]
  },
  {
   "cell_type": "code",
   "execution_count": 1,
   "metadata": {},
   "outputs": [],
   "source": [
    "# Import important module\n",
    "import pandas as pd\n",
    "from scipy.stats import skew\n",
    "from scipy.stats import kurtosis\n",
    "from scipy.stats import norm\n",
    "import scipy.stats as stats\n",
    "import numpy as np\n",
    "import plotly.express as px\n",
    "from scipy.stats import spearmanr\n",
    "import statsmodels.api as sm\n",
    "import matplotlib.pyplot as plt\n",
    "import plotly.graph_objects as go\n",
    "from scipy.stats import ttest_ind\n",
    "from scipy.stats import f_oneway, shapiro, levene\n",
    "import seaborn as sns"
   ]
  },
  {
   "cell_type": "code",
   "execution_count": 2,
   "metadata": {},
   "outputs": [],
   "source": [
    "# buat variable dataframe raw\n",
    "df_raw = pd.read_csv(\"imdb-movies-dataset.csv\")"
   ]
  },
  {
   "cell_type": "code",
   "execution_count": 3,
   "metadata": {},
   "outputs": [
    {
     "data": {
      "text/html": [
       "<div>\n",
       "<style scoped>\n",
       "    .dataframe tbody tr th:only-of-type {\n",
       "        vertical-align: middle;\n",
       "    }\n",
       "\n",
       "    .dataframe tbody tr th {\n",
       "        vertical-align: top;\n",
       "    }\n",
       "\n",
       "    .dataframe thead th {\n",
       "        text-align: right;\n",
       "    }\n",
       "</style>\n",
       "<table border=\"1\" class=\"dataframe\">\n",
       "  <thead>\n",
       "    <tr style=\"text-align: right;\">\n",
       "      <th></th>\n",
       "      <th>Poster</th>\n",
       "      <th>Title</th>\n",
       "      <th>Year</th>\n",
       "      <th>Certificate</th>\n",
       "      <th>Duration (min)</th>\n",
       "      <th>Genre</th>\n",
       "      <th>Rating</th>\n",
       "      <th>Metascore</th>\n",
       "      <th>Director</th>\n",
       "      <th>Cast</th>\n",
       "      <th>Votes</th>\n",
       "      <th>Description</th>\n",
       "      <th>Review Count</th>\n",
       "      <th>Review Title</th>\n",
       "      <th>Review</th>\n",
       "    </tr>\n",
       "  </thead>\n",
       "  <tbody>\n",
       "    <tr>\n",
       "      <th>1694</th>\n",
       "      <td>https://m.media-amazon.com/images/M/MV5BZjNkNz...</td>\n",
       "      <td>Enola Holmes</td>\n",
       "      <td>2017.0</td>\n",
       "      <td>13</td>\n",
       "      <td>123.0</td>\n",
       "      <td>Action, Adventure, Crime</td>\n",
       "      <td>6.6</td>\n",
       "      <td>68.0</td>\n",
       "      <td>Harry Bradbeer</td>\n",
       "      <td>Millie Bobby Brown, Henry Cavill, Sam Claflin,...</td>\n",
       "      <td>220,145</td>\n",
       "      <td>When Enola Holmes (Sherlock's teen sister) dis...</td>\n",
       "      <td>1,562</td>\n",
       "      <td>Perfect for a 15 yro girl</td>\n",
       "      <td>This is the movie I wish I had at 15. This isn...</td>\n",
       "    </tr>\n",
       "    <tr>\n",
       "      <th>8605</th>\n",
       "      <td>https://m.media-amazon.com/images/M/MV5BMDRhND...</td>\n",
       "      <td>Shut In</td>\n",
       "      <td>2004.0</td>\n",
       "      <td>NaN</td>\n",
       "      <td>89.0</td>\n",
       "      <td>Thriller</td>\n",
       "      <td>5.8</td>\n",
       "      <td>NaN</td>\n",
       "      <td>D.J. Caruso</td>\n",
       "      <td>Rainey Qualley, Jake Horowitz, Vincent Gallo, ...</td>\n",
       "      <td>10,948</td>\n",
       "      <td>When a young mother is barricaded inside a pan...</td>\n",
       "      <td>255</td>\n",
       "      <td>A solid movie with a great message.</td>\n",
       "      <td>This was a solid movie and had a great message...</td>\n",
       "    </tr>\n",
       "    <tr>\n",
       "      <th>582</th>\n",
       "      <td>https://m.media-amazon.com/images/M/MV5BMTQ5NT...</td>\n",
       "      <td>La vie d'Adèle</td>\n",
       "      <td>1991.0</td>\n",
       "      <td>A</td>\n",
       "      <td>180.0</td>\n",
       "      <td>Drama, Romance</td>\n",
       "      <td>7.7</td>\n",
       "      <td>90.0</td>\n",
       "      <td>Abdellatif Kechiche</td>\n",
       "      <td>Léa Seydoux, Adèle Exarchopoulos, Salim Kechio...</td>\n",
       "      <td>163,318</td>\n",
       "      <td>Adèle's life is changed when she meets Emma, a...</td>\n",
       "      <td>280</td>\n",
       "      <td>An Honest and Emotionally Devastating Film abo...</td>\n",
       "      <td>I just want to start off by saying this is an ...</td>\n",
       "    </tr>\n",
       "    <tr>\n",
       "      <th>8488</th>\n",
       "      <td>https://m.media-amazon.com/images/M/MV5BMjAzYW...</td>\n",
       "      <td>Ghosts of War</td>\n",
       "      <td>2005.0</td>\n",
       "      <td>R</td>\n",
       "      <td>94.0</td>\n",
       "      <td>Fantasy, Horror, Thriller</td>\n",
       "      <td>5.6</td>\n",
       "      <td>38.0</td>\n",
       "      <td>Eric Bress</td>\n",
       "      <td>Brenton Thwaites, Kyle Gallner, Alan Ritchson,...</td>\n",
       "      <td>12,087</td>\n",
       "      <td>Five American soldiers assigned to hold a Fren...</td>\n",
       "      <td>269</td>\n",
       "      <td>What a stupid ending</td>\n",
       "      <td>As I started watching I just kept thinking why...</td>\n",
       "    </tr>\n",
       "    <tr>\n",
       "      <th>4441</th>\n",
       "      <td>https://m.media-amazon.com/images/M/MV5BZjIyMj...</td>\n",
       "      <td>Revenge</td>\n",
       "      <td>2007.0</td>\n",
       "      <td>NaN</td>\n",
       "      <td>124.0</td>\n",
       "      <td>Action, Crime, Drama</td>\n",
       "      <td>6.2</td>\n",
       "      <td>35.0</td>\n",
       "      <td>Tony Scott</td>\n",
       "      <td>Kevin Costner, Anthony Quinn, Madeleine Stowe,...</td>\n",
       "      <td>20,568</td>\n",
       "      <td>A retired US Navy pilot comes to Mexico, where...</td>\n",
       "      <td>80</td>\n",
       "      <td>'Revenge' surpassed by the flavor of desire an...</td>\n",
       "      <td>'Revenge' has a recently retired fighter pilot...</td>\n",
       "    </tr>\n",
       "  </tbody>\n",
       "</table>\n",
       "</div>"
      ],
      "text/plain": [
       "                                                 Poster           Title  \\\n",
       "1694  https://m.media-amazon.com/images/M/MV5BZjNkNz...    Enola Holmes   \n",
       "8605  https://m.media-amazon.com/images/M/MV5BMDRhND...         Shut In   \n",
       "582   https://m.media-amazon.com/images/M/MV5BMTQ5NT...  La vie d'Adèle   \n",
       "8488  https://m.media-amazon.com/images/M/MV5BMjAzYW...   Ghosts of War   \n",
       "4441  https://m.media-amazon.com/images/M/MV5BZjIyMj...         Revenge   \n",
       "\n",
       "        Year Certificate  Duration (min)                      Genre  Rating  \\\n",
       "1694  2017.0          13           123.0   Action, Adventure, Crime     6.6   \n",
       "8605  2004.0         NaN            89.0                   Thriller     5.8   \n",
       "582   1991.0           A           180.0             Drama, Romance     7.7   \n",
       "8488  2005.0           R            94.0  Fantasy, Horror, Thriller     5.6   \n",
       "4441  2007.0         NaN           124.0       Action, Crime, Drama     6.2   \n",
       "\n",
       "      Metascore             Director  \\\n",
       "1694       68.0       Harry Bradbeer   \n",
       "8605        NaN          D.J. Caruso   \n",
       "582        90.0  Abdellatif Kechiche   \n",
       "8488       38.0           Eric Bress   \n",
       "4441       35.0           Tony Scott   \n",
       "\n",
       "                                                   Cast    Votes  \\\n",
       "1694  Millie Bobby Brown, Henry Cavill, Sam Claflin,...  220,145   \n",
       "8605  Rainey Qualley, Jake Horowitz, Vincent Gallo, ...   10,948   \n",
       "582   Léa Seydoux, Adèle Exarchopoulos, Salim Kechio...  163,318   \n",
       "8488  Brenton Thwaites, Kyle Gallner, Alan Ritchson,...   12,087   \n",
       "4441  Kevin Costner, Anthony Quinn, Madeleine Stowe,...   20,568   \n",
       "\n",
       "                                            Description Review Count  \\\n",
       "1694  When Enola Holmes (Sherlock's teen sister) dis...        1,562   \n",
       "8605  When a young mother is barricaded inside a pan...          255   \n",
       "582   Adèle's life is changed when she meets Emma, a...          280   \n",
       "8488  Five American soldiers assigned to hold a Fren...          269   \n",
       "4441  A retired US Navy pilot comes to Mexico, where...           80   \n",
       "\n",
       "                                           Review Title  \\\n",
       "1694                          Perfect for a 15 yro girl   \n",
       "8605                A solid movie with a great message.   \n",
       "582   An Honest and Emotionally Devastating Film abo...   \n",
       "8488                               What a stupid ending   \n",
       "4441  'Revenge' surpassed by the flavor of desire an...   \n",
       "\n",
       "                                                 Review  \n",
       "1694  This is the movie I wish I had at 15. This isn...  \n",
       "8605  This was a solid movie and had a great message...  \n",
       "582   I just want to start off by saying this is an ...  \n",
       "8488  As I started watching I just kept thinking why...  \n",
       "4441  'Revenge' has a recently retired fighter pilot...  "
      ]
     },
     "execution_count": 3,
     "metadata": {},
     "output_type": "execute_result"
    }
   ],
   "source": [
    "# Coba tampilkan 5 sample data\n",
    "df_raw.sample(5)"
   ]
  },
  {
   "cell_type": "code",
   "execution_count": 4,
   "metadata": {},
   "outputs": [
    {
     "name": "stdout",
     "output_type": "stream",
     "text": [
      "<class 'pandas.core.frame.DataFrame'>\n",
      "RangeIndex: 10000 entries, 0 to 9999\n",
      "Data columns (total 15 columns):\n",
      " #   Column          Non-Null Count  Dtype  \n",
      "---  ------          --------------  -----  \n",
      " 0   Poster          10000 non-null  object \n",
      " 1   Title           10000 non-null  object \n",
      " 2   Year            9850 non-null   float64\n",
      " 3   Certificate     7370 non-null   object \n",
      " 4   Duration (min)  9664 non-null   float64\n",
      " 5   Genre           9993 non-null   object \n",
      " 6   Rating          9596 non-null   float64\n",
      " 7   Metascore       7555 non-null   float64\n",
      " 8   Director        9995 non-null   object \n",
      " 9   Cast            9961 non-null   object \n",
      " 10  Votes           9596 non-null   object \n",
      " 11  Description     10000 non-null  object \n",
      " 12  Review Count    9999 non-null   object \n",
      " 13  Review Title    9483 non-null   object \n",
      " 14  Review          9484 non-null   object \n",
      "dtypes: float64(4), object(11)\n",
      "memory usage: 1.1+ MB\n"
     ]
    }
   ],
   "source": [
    "# Menampilkan summary data\n",
    "df_raw.info()"
   ]
  },
  {
   "cell_type": "code",
   "execution_count": 5,
   "metadata": {},
   "outputs": [
    {
     "data": {
      "text/plain": [
       "Poster               0\n",
       "Title                0\n",
       "Year               150\n",
       "Certificate       2630\n",
       "Duration (min)     336\n",
       "Genre                7\n",
       "Rating             404\n",
       "Metascore         2445\n",
       "Director             5\n",
       "Cast                39\n",
       "Votes              404\n",
       "Description          0\n",
       "Review Count         1\n",
       "Review Title       517\n",
       "Review             516\n",
       "dtype: int64"
      ]
     },
     "execution_count": 5,
     "metadata": {},
     "output_type": "execute_result"
    }
   ],
   "source": [
    "# Menampilkan missing values pada beberapa kolom\n",
    "df_raw.isna().sum()"
   ]
  },
  {
   "cell_type": "code",
   "execution_count": 6,
   "metadata": {},
   "outputs": [
    {
     "data": {
      "text/plain": [
       "0"
      ]
     },
     "execution_count": 6,
     "metadata": {},
     "output_type": "execute_result"
    }
   ],
   "source": [
    "# Cek duplikat\n",
    "df_raw.duplicated().sum()"
   ]
  },
  {
   "cell_type": "markdown",
   "metadata": {},
   "source": [
    "**Hasil analisa data eksplorasi**\n",
    "<br>\n",
    "<ol>\n",
    "<li>Data memiliki datatype yang tidak sesuai di beberapa kolom.</li>\n",
    "<li>Beberapa kolom memiliki banyak <i>missing values.</i></li>\n",
    "<li>Data sudah bersih dari duplikat.</li>\n",
    "</ol>\n",
    "Selanjutnya akan dilakukan proses <i>cleaning data</i>"
   ]
  },
  {
   "cell_type": "markdown",
   "metadata": {},
   "source": [
    "## Data Cleaning"
   ]
  },
  {
   "cell_type": "code",
   "execution_count": 7,
   "metadata": {},
   "outputs": [],
   "source": [
    "# Buat variable baru dengan metode copy dari variable sebelumnya\n",
    "df_clean = df_raw.copy()"
   ]
  },
  {
   "cell_type": "code",
   "execution_count": 8,
   "metadata": {},
   "outputs": [],
   "source": [
    "# Menghilangkan whitespace pada nama kolom jika ada\n",
    "df_clean.columns = df_clean.columns.str.strip()"
   ]
  },
  {
   "cell_type": "code",
   "execution_count": 9,
   "metadata": {},
   "outputs": [],
   "source": [
    "# Menghapus kolom yang tidak diperlukan untuk diteliti\n",
    "df_clean = df_clean.drop(['Poster','Description','Review Title','Review'], axis=1)"
   ]
  },
  {
   "cell_type": "markdown",
   "metadata": {},
   "source": [
    "Kolom tersebut tidak diperlukan dalam analisa yang akan dilakukan, lebih baik didrop supaya terlihat rapih"
   ]
  },
  {
   "cell_type": "code",
   "execution_count": 10,
   "metadata": {},
   "outputs": [],
   "source": [
    "# Drop null values\n",
    "df_clean.dropna(subset=['Year'], how='all', inplace=True)\n",
    "df_clean.dropna(subset=['Rating'], how='all',inplace=True)\n",
    "df_clean.dropna(subset=['Duration (min)'], how='all',inplace=True)\n",
    "df_clean.dropna(subset=['Cast'], how='all',inplace=True)\n",
    "df_clean.dropna(subset=['Review Count'], how='all',inplace=True)"
   ]
  },
  {
   "cell_type": "markdown",
   "metadata": {},
   "source": [
    "Membuang beberapa <i>null values</i> yang tidak memungkinkan untuk menggunakan metode fillna dan sejenisnya, karena itu akan mempengaruhi hasil penelitian."
   ]
  },
  {
   "cell_type": "code",
   "execution_count": 11,
   "metadata": {},
   "outputs": [],
   "source": [
    "# Replace null values pada kolom Certificate menjadi Missing\n",
    "df_clean['Certificate'] = df_clean['Certificate'].replace(to_replace=[None], value='Missing')\n",
    "\n",
    "# Isi null values pada kolom Metascore dengan rata-rata Metascore\n",
    "df_clean['Metascore'] = df_clean['Metascore'].fillna(df_clean['Metascore'].mean()).round(2)\n",
    "\n",
    "# Erubah data type beberapa kolom dengan int\n",
    "df_clean['Review Count'] = df_clean['Review Count'].str.replace(',','').astype(int)\n",
    "df_clean['Votes'] = df_clean['Votes'].str.replace(',','').astype(int)\n",
    "df_clean['Year'] = df_clean['Year'].astype(int)\n",
    "df_clean['Duration (min)'] = df_clean['Duration (min)'].astype(int)"
   ]
  },
  {
   "cell_type": "code",
   "execution_count": 12,
   "metadata": {},
   "outputs": [],
   "source": [
    "df_clean['Title_Year'] = df_clean['Title'] + ' (' + df_clean['Year'].astype(str) +')'"
   ]
  },
  {
   "cell_type": "markdown",
   "metadata": {},
   "source": [
    "Mengisi kolom <i>null values</i> dan merubah tipe data ke tipe data yang lebih sesuai."
   ]
  },
  {
   "cell_type": "code",
   "execution_count": 13,
   "metadata": {},
   "outputs": [],
   "source": [
    "# Reset index supaya dimulai dari index 0 dan berakhir sesuai banyaknya baris\n",
    "df_clean.reset_index(drop=True,inplace=True)"
   ]
  },
  {
   "cell_type": "code",
   "execution_count": 14,
   "metadata": {},
   "outputs": [
    {
     "data": {
      "text/html": [
       "<div>\n",
       "<style scoped>\n",
       "    .dataframe tbody tr th:only-of-type {\n",
       "        vertical-align: middle;\n",
       "    }\n",
       "\n",
       "    .dataframe tbody tr th {\n",
       "        vertical-align: top;\n",
       "    }\n",
       "\n",
       "    .dataframe thead th {\n",
       "        text-align: right;\n",
       "    }\n",
       "</style>\n",
       "<table border=\"1\" class=\"dataframe\">\n",
       "  <thead>\n",
       "    <tr style=\"text-align: right;\">\n",
       "      <th></th>\n",
       "      <th>Title</th>\n",
       "      <th>Year</th>\n",
       "      <th>Certificate</th>\n",
       "      <th>Duration (min)</th>\n",
       "      <th>Genre</th>\n",
       "      <th>Rating</th>\n",
       "      <th>Metascore</th>\n",
       "      <th>Director</th>\n",
       "      <th>Cast</th>\n",
       "      <th>Votes</th>\n",
       "      <th>Review Count</th>\n",
       "      <th>Title_Year</th>\n",
       "    </tr>\n",
       "  </thead>\n",
       "  <tbody>\n",
       "    <tr>\n",
       "      <th>8927</th>\n",
       "      <td>S1m0ne</td>\n",
       "      <td>1976</td>\n",
       "      <td>U</td>\n",
       "      <td>117</td>\n",
       "      <td>Comedy, Drama, Sci-Fi</td>\n",
       "      <td>6.1</td>\n",
       "      <td>49.0</td>\n",
       "      <td>Andrew Niccol</td>\n",
       "      <td>Al Pacino, Catherine Keener, Rachel Roberts, B...</td>\n",
       "      <td>62507</td>\n",
       "      <td>193</td>\n",
       "      <td>S1m0ne (1976)</td>\n",
       "    </tr>\n",
       "    <tr>\n",
       "      <th>8698</th>\n",
       "      <td>Nightwatch</td>\n",
       "      <td>2014</td>\n",
       "      <td>R</td>\n",
       "      <td>101</td>\n",
       "      <td>Drama, Horror, Thriller</td>\n",
       "      <td>6.2</td>\n",
       "      <td>40.0</td>\n",
       "      <td>Ole Bornedal</td>\n",
       "      <td>Ewan McGregor, Nick Nolte, Anais Evans, Erich ...</td>\n",
       "      <td>21340</td>\n",
       "      <td>125</td>\n",
       "      <td>Nightwatch (2014)</td>\n",
       "    </tr>\n",
       "    <tr>\n",
       "      <th>2531</th>\n",
       "      <td>The Mother</td>\n",
       "      <td>2004</td>\n",
       "      <td>12+</td>\n",
       "      <td>115</td>\n",
       "      <td>Action, Thriller</td>\n",
       "      <td>5.6</td>\n",
       "      <td>45.0</td>\n",
       "      <td>Niki Caro</td>\n",
       "      <td>Jennifer Lopez, Lucy Paez, Omari Hardwick, Jos...</td>\n",
       "      <td>47372</td>\n",
       "      <td>334</td>\n",
       "      <td>The Mother (2004)</td>\n",
       "    </tr>\n",
       "    <tr>\n",
       "      <th>3706</th>\n",
       "      <td>L'Apollonide (Souvenirs de la maison close)</td>\n",
       "      <td>2024</td>\n",
       "      <td>Missing</td>\n",
       "      <td>122</td>\n",
       "      <td>Drama</td>\n",
       "      <td>6.7</td>\n",
       "      <td>75.0</td>\n",
       "      <td>Bertrand Bonello</td>\n",
       "      <td>Noémie Lvovsky, Hafsia Herzi, Céline Sallette,...</td>\n",
       "      <td>7844</td>\n",
       "      <td>23</td>\n",
       "      <td>L'Apollonide (Souvenirs de la maison close) (2...</td>\n",
       "    </tr>\n",
       "    <tr>\n",
       "      <th>6197</th>\n",
       "      <td>Race to Witch Mountain</td>\n",
       "      <td>1985</td>\n",
       "      <td>U</td>\n",
       "      <td>98</td>\n",
       "      <td>Action, Adventure, Family</td>\n",
       "      <td>5.7</td>\n",
       "      <td>52.0</td>\n",
       "      <td>Andy Fickman</td>\n",
       "      <td>Dwayne Johnson, Carla Gugino, AnnaSophia Robb,...</td>\n",
       "      <td>63074</td>\n",
       "      <td>112</td>\n",
       "      <td>Race to Witch Mountain (1985)</td>\n",
       "    </tr>\n",
       "  </tbody>\n",
       "</table>\n",
       "</div>"
      ],
      "text/plain": [
       "                                            Title  Year Certificate  \\\n",
       "8927                                       S1m0ne  1976           U   \n",
       "8698                                   Nightwatch  2014           R   \n",
       "2531                                   The Mother  2004         12+   \n",
       "3706  L'Apollonide (Souvenirs de la maison close)  2024     Missing   \n",
       "6197                       Race to Witch Mountain  1985           U   \n",
       "\n",
       "      Duration (min)                      Genre  Rating  Metascore  \\\n",
       "8927             117      Comedy, Drama, Sci-Fi     6.1       49.0   \n",
       "8698             101    Drama, Horror, Thriller     6.2       40.0   \n",
       "2531             115           Action, Thriller     5.6       45.0   \n",
       "3706             122                      Drama     6.7       75.0   \n",
       "6197              98  Action, Adventure, Family     5.7       52.0   \n",
       "\n",
       "              Director                                               Cast  \\\n",
       "8927     Andrew Niccol  Al Pacino, Catherine Keener, Rachel Roberts, B...   \n",
       "8698      Ole Bornedal  Ewan McGregor, Nick Nolte, Anais Evans, Erich ...   \n",
       "2531         Niki Caro  Jennifer Lopez, Lucy Paez, Omari Hardwick, Jos...   \n",
       "3706  Bertrand Bonello  Noémie Lvovsky, Hafsia Herzi, Céline Sallette,...   \n",
       "6197      Andy Fickman  Dwayne Johnson, Carla Gugino, AnnaSophia Robb,...   \n",
       "\n",
       "      Votes  Review Count                                         Title_Year  \n",
       "8927  62507           193                                      S1m0ne (1976)  \n",
       "8698  21340           125                                  Nightwatch (2014)  \n",
       "2531  47372           334                                  The Mother (2004)  \n",
       "3706   7844            23  L'Apollonide (Souvenirs de la maison close) (2...  \n",
       "6197  63074           112                      Race to Witch Mountain (1985)  "
      ]
     },
     "execution_count": 14,
     "metadata": {},
     "output_type": "execute_result"
    }
   ],
   "source": [
    "# Menampilkan sample data\n",
    "df_clean.sample(5)"
   ]
  },
  {
   "cell_type": "code",
   "execution_count": 15,
   "metadata": {},
   "outputs": [
    {
     "name": "stdout",
     "output_type": "stream",
     "text": [
      "<class 'pandas.core.frame.DataFrame'>\n",
      "RangeIndex: 9439 entries, 0 to 9438\n",
      "Data columns (total 12 columns):\n",
      " #   Column          Non-Null Count  Dtype  \n",
      "---  ------          --------------  -----  \n",
      " 0   Title           9439 non-null   object \n",
      " 1   Year            9439 non-null   int32  \n",
      " 2   Certificate     9439 non-null   object \n",
      " 3   Duration (min)  9439 non-null   int32  \n",
      " 4   Genre           9439 non-null   object \n",
      " 5   Rating          9439 non-null   float64\n",
      " 6   Metascore       9439 non-null   float64\n",
      " 7   Director        9439 non-null   object \n",
      " 8   Cast            9439 non-null   object \n",
      " 9   Votes           9439 non-null   int32  \n",
      " 10  Review Count    9439 non-null   int32  \n",
      " 11  Title_Year      9439 non-null   object \n",
      "dtypes: float64(2), int32(4), object(6)\n",
      "memory usage: 737.5+ KB\n"
     ]
    }
   ],
   "source": [
    "# Menampilkan summary data yang sudah bersih.\n",
    "df_clean.info()"
   ]
  },
  {
   "cell_type": "markdown",
   "metadata": {},
   "source": [
    "Proses <i>data cleaning</i> telah berhasil dilakukan, selanjutnya data sudah bisa dilanjutkan untuk proses statistik yang bertujuan untuk menjawab beberapa pertanyaan yang sudah dirumuskan."
   ]
  },
  {
   "cell_type": "markdown",
   "metadata": {},
   "source": [
    "# Analisis dan perhitungan"
   ]
  },
  {
   "cell_type": "markdown",
   "metadata": {},
   "source": [
    "## Deskriptif"
   ]
  },
  {
   "cell_type": "markdown",
   "metadata": {},
   "source": [
    "#### 1. Berapa mean, median, mode, skewness dan kurtosis dari rating, meta score, votes, dan review count? (Statistik deskriptif)"
   ]
  },
  {
   "cell_type": "code",
   "execution_count": 16,
   "metadata": {},
   "outputs": [
    {
     "name": "stdout",
     "output_type": "stream",
     "text": [
      "rata-rata : 6.445\n",
      "Nilai tengah : 6.5\n",
      "Standar Deviasi : 1.045\n",
      "Skewness : -0.652\n",
      "Kurtosis : 0.834\n",
      "Modus : 6.4\n"
     ]
    }
   ],
   "source": [
    "# Rating\n",
    "meanRating = df_clean['Rating'].mean()\n",
    "medianRating = df_clean['Rating'].median()\n",
    "stdRating = df_clean['Rating'].std()\n",
    "skewRating = df_clean['Rating'].skew()\n",
    "kurtRating = df_clean['Rating'].kurtosis()\n",
    "modeRating = df_clean['Rating'].mode()[0]\n",
    "\n",
    "print(f\"rata-rata : {meanRating:.3f}\")\n",
    "print(f\"Nilai tengah : {medianRating}\")\n",
    "print(f\"Standar Deviasi : {stdRating:.3f}\")\n",
    "print(f\"Skewness : {skewRating:.3f}\")\n",
    "print(f\"Kurtosis : {kurtRating:.3f}\")\n",
    "print(f\"Modus : {modeRating}\")"
   ]
  },
  {
   "cell_type": "markdown",
   "metadata": {},
   "source": [
    "**Penjelasan hasil statistik deskriptif kolom rating**\n",
    "<ul>\n",
    "<li>Rata-rata<br>\n",
    "Nilai rata-rata kolom rating adalah 6.445.</li>\n",
    "<li>Nilai tengah<br>\n",
    "Nilai tengah pada kolom rating adalah 6.5</li>\n",
    "<li>Standar deviasi<br>\n",
    "Standar deviasi kolom rating adalah 1.045 yang artinya data persebaran datanya tidak jauh dari rata-ratanya.</li>\n",
    "<li>Skewness<br>\n",
    "Nilai <i>skewness</i> pada kolom rating adalah -0.652 yang artinya data tersebut adalah <i>moderately skew - negatively</i> artinya mean < median < mode</li>\n",
    "<li>Kurtosis<br>\n",
    "Nilai kurtosis kolom rating adalah 0.834 yang artinya adalah data tersebut masuk dalam kategori <i>leptokurtic</i> dapat disimpulkan bahwa data terdapat <i>outlier</i></li>\n",
    "<li>Modus<br>\n",
    "Angka yang sering muncul dari kolom rating adalah 6.4, karena modus bernilai 6.4</li>\n",
    "</ul>"
   ]
  },
  {
   "cell_type": "code",
   "execution_count": 17,
   "metadata": {},
   "outputs": [
    {
     "name": "stdout",
     "output_type": "stream",
     "text": [
      "rata-rata : 58.114\n",
      "Nilai tengah : 58.11\n",
      "Standar Deviasi : 15.849\n",
      "Skewness : -0.129\n",
      "Kurtosis : 0.236\n",
      "Modus : 58.11\n"
     ]
    }
   ],
   "source": [
    "# Metascore\n",
    "meanMeta = df_clean['Metascore'].mean()\n",
    "medianMeta = df_clean['Metascore'].median()\n",
    "stdMeta = df_clean['Metascore'].std()\n",
    "skewMeta = df_clean['Metascore'].skew()\n",
    "kurtMeta = df_clean['Metascore'].kurtosis()\n",
    "modeMeta = df_clean['Metascore'].mode()[0]\n",
    "\n",
    "print(f\"rata-rata : {meanMeta:.3f}\")\n",
    "print(f\"Nilai tengah : {medianMeta}\")\n",
    "print(f\"Standar Deviasi : {stdMeta:.3f}\")\n",
    "print(f\"Skewness : {skewMeta:.3f}\")\n",
    "print(f\"Kurtosis : {kurtMeta:.3f}\")\n",
    "print(f\"Modus : {modeMeta}\")"
   ]
  },
  {
   "cell_type": "markdown",
   "metadata": {},
   "source": [
    "**Penjelasan hasil statistik deskriptif kolom metascore**\n",
    "<ul>\n",
    "<li>Rata-rata<br>\n",
    "Nilai rata-rata kolom metascore adalah 58.114.</li>\n",
    "<li>Nilai tengah<br>\n",
    "Nilai tengah pada kolom metascore adalah 58.11</li>\n",
    "<li>Standar deviasi<br>\n",
    "Standar deviasi kolom metascore adalah 15.849 yang artinya persebarannya jauh dari rata-rata</li>\n",
    "<li>Skewness<br>\n",
    "Nilai <i>skewness</i> pada kolom metascore adalah -0.129 yang artinya data tersebut adalah <i>aproxiamtely symmetric</i> ekornya sedikit lebih berat ke kiri tapi tidak signifikan sehingga hampir simetris</li>\n",
    "<li>Kurtosis<br>\n",
    "Nilai kurtosis kolom metascore adalah 0.236 yang artinya adalah data tersebut masuk dalam kategori <i>leptokurtic</i> dapat disimpulkan bahwa data terdapat <i>outlier</i> hanya saja tidak signifikan karena angka mendekati 0.</li>\n",
    "<li>Modus<br>\n",
    "Angka yang sering muncul dari kolom metascore adalah 58.11, karena modus bernilai 58.11</li>\n",
    "</ul>"
   ]
  },
  {
   "cell_type": "code",
   "execution_count": 18,
   "metadata": {},
   "outputs": [
    {
     "name": "stdout",
     "output_type": "stream",
     "text": [
      "rata-rata : 97617.030\n",
      "Nilai tengah : 37749.0\n",
      "Standar Deviasi : 183219.779\n",
      "Skewness : 5.233\n",
      "Kurtosis : 42.479\n",
      "Modus : 96\n"
     ]
    }
   ],
   "source": [
    "# Votes\n",
    "meanVotes = df_clean['Votes'].mean()\n",
    "medianVotes = df_clean['Votes'].median()\n",
    "stdVotes = df_clean['Votes'].std()\n",
    "skewVotes = df_clean['Votes'].skew()\n",
    "kurtVotes = df_clean['Votes'].kurtosis()\n",
    "modeVotes = df_clean['Votes'].mode()[0]\n",
    "\n",
    "print(f\"rata-rata : {meanVotes:.3f}\")\n",
    "print(f\"Nilai tengah : {medianVotes}\")\n",
    "print(f\"Standar Deviasi : {stdVotes:.3f}\")\n",
    "print(f\"Skewness : {skewVotes:.3f}\")\n",
    "print(f\"Kurtosis : {kurtVotes:.3f}\")\n",
    "print(f\"Modus : {modeVotes}\")"
   ]
  },
  {
   "cell_type": "markdown",
   "metadata": {},
   "source": [
    "**Penjelasan hasil statistik deskriptif kolom votes**\n",
    "<ul>\n",
    "<li>Rata-rata<br>\n",
    "Nilai rata-rata kolom votes adalah 97617.030</li>\n",
    "<li>Nilai tengah<br>\n",
    "Nilai tengah pada kolom votes adalah 37749</li>\n",
    "<li>Standar deviasi<br>\n",
    "Standar deviasi kolom votes adalah 183219.779 yang artinya persebarannya jauh dari rata-rata</li>\n",
    "<li>Skewness<br>\n",
    "Nilai <i>skewness</i> pada kolom votes adalah 5.223 yang artinya data tersebut adalah <i>highly skewed - positvely</i> ekornya berat ke kanan yang artinya mean > median > mode</li>\n",
    "<li>Kurtosis<br>\n",
    "Nilai kurtosis kolom votes adalah 42.479 yang artinya adalah data tersebut masuk dalam kategori <i>leptokurtic</i> dapat disimpulkan bahwa data terdapat <i>outlier</i></li>\n",
    "<li>Modus<br>\n",
    "Angka yang sering muncul dari kolom votes adalah 96, karena modus bernilai 96. Karena votes memiliki kecenderungan nilai yang tinggi, maka kolom votes kurang relevan untuk dicari modusnya</li>\n",
    "</ul>"
   ]
  },
  {
   "cell_type": "code",
   "execution_count": 19,
   "metadata": {},
   "outputs": [
    {
     "name": "stdout",
     "output_type": "stream",
     "text": [
      "rata-rata : 280.094\n",
      "Nilai tengah : 148.0\n",
      "Standar Deviasi : 464.334\n",
      "Skewness : 6.861\n",
      "Kurtosis : 80.963\n",
      "Modus : 0\n"
     ]
    }
   ],
   "source": [
    "# Review Count\n",
    "meanRevw = df_clean['Review Count'].mean()\n",
    "medianRevw = df_clean['Review Count'].median()\n",
    "stdRevw = df_clean['Review Count'].std()\n",
    "skewRevw = df_clean['Review Count'].skew()\n",
    "kurtRevw = df_clean['Review Count'].kurtosis()\n",
    "modeRevw = df_clean['Review Count'].mode()[0]\n",
    "\n",
    "print(f\"rata-rata : {meanRevw:.3f}\")\n",
    "print(f\"Nilai tengah : {medianRevw}\")\n",
    "print(f\"Standar Deviasi : {stdRevw:.3f}\")\n",
    "print(f\"Skewness : {skewRevw:.3f}\")\n",
    "print(f\"Kurtosis : {kurtRevw:.3f}\")\n",
    "print(f\"Modus : {modeRevw}\")"
   ]
  },
  {
   "cell_type": "markdown",
   "metadata": {},
   "source": [
    "**Penjelasan hasil statistik deskriptif kolom review count**\n",
    "<ul>\n",
    "<li>Rata-rata<br>\n",
    "Nilai rata-rata kolom review count adalah 280.094</li>\n",
    "<li>Nilai tengah<br>\n",
    "Nilai tengah pada kolom review count adalah 148</li>\n",
    "<li>Standar deviasi<br>\n",
    "Standar deviasi kolom review count adalah 464.334 yang artinya persebaran datanya jauh dari rata-ratanya.</li>\n",
    "<li>Skewness<br>\n",
    "Nilai <i>skewness</i> pada kolom review count adalah 6.861 yang artinya data tersebut adalah <i>highly skew - positively</i> artinya mean > median > mode</li>\n",
    "<li>Kurtosis<br>\n",
    "Nilai kurtosis kolom review count adalah 80.963 yang artinya adalah data tersebut masuk dalam kategori <i>leptokurtic</i> dapat disimpulkan bahwa data terdapat <i>outlier</i></li>\n",
    "<li>Modus<br>\n",
    "Angka yang sering muncul dari kolom review count adalah 0, karena modus bernilai 0</li>\n",
    "</ul>"
   ]
  },
  {
   "cell_type": "markdown",
   "metadata": {},
   "source": [
    "## Visualisasi"
   ]
  },
  {
   "cell_type": "markdown",
   "metadata": {},
   "source": [
    "### 2. Pada tahun berapa nilai rata-rata rating paling tinggi dan Film apa?"
   ]
  },
  {
   "cell_type": "code",
   "execution_count": 20,
   "metadata": {},
   "outputs": [
    {
     "data": {
      "text/html": [
       "<div>\n",
       "<style scoped>\n",
       "    .dataframe tbody tr th:only-of-type {\n",
       "        vertical-align: middle;\n",
       "    }\n",
       "\n",
       "    .dataframe tbody tr th {\n",
       "        vertical-align: top;\n",
       "    }\n",
       "\n",
       "    .dataframe thead th {\n",
       "        text-align: right;\n",
       "    }\n",
       "</style>\n",
       "<table border=\"1\" class=\"dataframe\">\n",
       "  <thead>\n",
       "    <tr style=\"text-align: right;\">\n",
       "      <th></th>\n",
       "      <th>Year</th>\n",
       "      <th>AverageRating</th>\n",
       "      <th>MoviesPublished</th>\n",
       "    </tr>\n",
       "  </thead>\n",
       "  <tbody>\n",
       "    <tr>\n",
       "      <th>7</th>\n",
       "      <td>1964</td>\n",
       "      <td>6.80</td>\n",
       "      <td>49</td>\n",
       "    </tr>\n",
       "    <tr>\n",
       "      <th>13</th>\n",
       "      <td>1972</td>\n",
       "      <td>6.98</td>\n",
       "      <td>48</td>\n",
       "    </tr>\n",
       "    <tr>\n",
       "      <th>17</th>\n",
       "      <td>1979</td>\n",
       "      <td>6.83</td>\n",
       "      <td>49</td>\n",
       "    </tr>\n",
       "    <tr>\n",
       "      <th>20</th>\n",
       "      <td>1985</td>\n",
       "      <td>6.62</td>\n",
       "      <td>143</td>\n",
       "    </tr>\n",
       "    <tr>\n",
       "      <th>24</th>\n",
       "      <td>1990</td>\n",
       "      <td>7.24</td>\n",
       "      <td>49</td>\n",
       "    </tr>\n",
       "    <tr>\n",
       "      <th>25</th>\n",
       "      <td>1991</td>\n",
       "      <td>7.05</td>\n",
       "      <td>45</td>\n",
       "    </tr>\n",
       "    <tr>\n",
       "      <th>39</th>\n",
       "      <td>2005</td>\n",
       "      <td>6.61</td>\n",
       "      <td>192</td>\n",
       "    </tr>\n",
       "    <tr>\n",
       "      <th>41</th>\n",
       "      <td>2007</td>\n",
       "      <td>6.57</td>\n",
       "      <td>246</td>\n",
       "    </tr>\n",
       "    <tr>\n",
       "      <th>46</th>\n",
       "      <td>2012</td>\n",
       "      <td>6.72</td>\n",
       "      <td>243</td>\n",
       "    </tr>\n",
       "    <tr>\n",
       "      <th>50</th>\n",
       "      <td>2016</td>\n",
       "      <td>6.74</td>\n",
       "      <td>287</td>\n",
       "    </tr>\n",
       "  </tbody>\n",
       "</table>\n",
       "</div>"
      ],
      "text/plain": [
       "    Year  AverageRating  MoviesPublished\n",
       "7   1964           6.80               49\n",
       "13  1972           6.98               48\n",
       "17  1979           6.83               49\n",
       "20  1985           6.62              143\n",
       "24  1990           7.24               49\n",
       "25  1991           7.05               45\n",
       "39  2005           6.61              192\n",
       "41  2007           6.57              246\n",
       "46  2012           6.72              243\n",
       "50  2016           6.74              287"
      ]
     },
     "execution_count": 20,
     "metadata": {},
     "output_type": "execute_result"
    }
   ],
   "source": [
    "# Pandas query\n",
    "result = df_clean.groupby('Year').agg(# Group berdasarkan tahun\n",
    "    AverageRating=('Rating', 'mean'), # Var baru diambil dari Rating dengan aggregate rata-rata(mean)\n",
    "    MoviesPublished=('Year', 'count') # Var baru diambil dari Year dengan aggregate count\n",
    ").reset_index().sort_values(by='AverageRating', ascending=False).round(2).head(10)\n",
    "\n",
    "result.sort_index() #Ambil top 10"
   ]
  },
  {
   "cell_type": "markdown",
   "metadata": {},
   "source": [
    "10 Rating rata-rata teratas suatu film diurutkan berdasarkan tahun."
   ]
  },
  {
   "cell_type": "code",
   "execution_count": 21,
   "metadata": {},
   "outputs": [
    {
     "data": {
      "application/vnd.plotly.v1+json": {
       "config": {
        "plotlyServerURL": "https://plot.ly"
       },
       "data": [
        {
         "hovertemplate": "Year=%{x}<br>AverageRating=%{y}<extra></extra>",
         "legendgroup": "",
         "line": {
          "color": "#636efa",
          "dash": "solid"
         },
         "marker": {
          "symbol": "circle"
         },
         "mode": "lines",
         "name": "",
         "orientation": "v",
         "showlegend": false,
         "type": "scatter",
         "x": [
          1964,
          1972,
          1979,
          1985,
          1990,
          1991,
          2005,
          2007,
          2012,
          2016
         ],
         "xaxis": "x",
         "y": [
          6.8,
          6.98,
          6.83,
          6.62,
          7.24,
          7.05,
          6.61,
          6.57,
          6.72,
          6.74
         ],
         "yaxis": "y"
        }
       ],
       "layout": {
        "legend": {
         "tracegroupgap": 0
        },
        "template": {
         "data": {
          "bar": [
           {
            "error_x": {
             "color": "#2a3f5f"
            },
            "error_y": {
             "color": "#2a3f5f"
            },
            "marker": {
             "line": {
              "color": "#E5ECF6",
              "width": 0.5
             },
             "pattern": {
              "fillmode": "overlay",
              "size": 10,
              "solidity": 0.2
             }
            },
            "type": "bar"
           }
          ],
          "barpolar": [
           {
            "marker": {
             "line": {
              "color": "#E5ECF6",
              "width": 0.5
             },
             "pattern": {
              "fillmode": "overlay",
              "size": 10,
              "solidity": 0.2
             }
            },
            "type": "barpolar"
           }
          ],
          "carpet": [
           {
            "aaxis": {
             "endlinecolor": "#2a3f5f",
             "gridcolor": "white",
             "linecolor": "white",
             "minorgridcolor": "white",
             "startlinecolor": "#2a3f5f"
            },
            "baxis": {
             "endlinecolor": "#2a3f5f",
             "gridcolor": "white",
             "linecolor": "white",
             "minorgridcolor": "white",
             "startlinecolor": "#2a3f5f"
            },
            "type": "carpet"
           }
          ],
          "choropleth": [
           {
            "colorbar": {
             "outlinewidth": 0,
             "ticks": ""
            },
            "type": "choropleth"
           }
          ],
          "contour": [
           {
            "colorbar": {
             "outlinewidth": 0,
             "ticks": ""
            },
            "colorscale": [
             [
              0,
              "#0d0887"
             ],
             [
              0.1111111111111111,
              "#46039f"
             ],
             [
              0.2222222222222222,
              "#7201a8"
             ],
             [
              0.3333333333333333,
              "#9c179e"
             ],
             [
              0.4444444444444444,
              "#bd3786"
             ],
             [
              0.5555555555555556,
              "#d8576b"
             ],
             [
              0.6666666666666666,
              "#ed7953"
             ],
             [
              0.7777777777777778,
              "#fb9f3a"
             ],
             [
              0.8888888888888888,
              "#fdca26"
             ],
             [
              1,
              "#f0f921"
             ]
            ],
            "type": "contour"
           }
          ],
          "contourcarpet": [
           {
            "colorbar": {
             "outlinewidth": 0,
             "ticks": ""
            },
            "type": "contourcarpet"
           }
          ],
          "heatmap": [
           {
            "colorbar": {
             "outlinewidth": 0,
             "ticks": ""
            },
            "colorscale": [
             [
              0,
              "#0d0887"
             ],
             [
              0.1111111111111111,
              "#46039f"
             ],
             [
              0.2222222222222222,
              "#7201a8"
             ],
             [
              0.3333333333333333,
              "#9c179e"
             ],
             [
              0.4444444444444444,
              "#bd3786"
             ],
             [
              0.5555555555555556,
              "#d8576b"
             ],
             [
              0.6666666666666666,
              "#ed7953"
             ],
             [
              0.7777777777777778,
              "#fb9f3a"
             ],
             [
              0.8888888888888888,
              "#fdca26"
             ],
             [
              1,
              "#f0f921"
             ]
            ],
            "type": "heatmap"
           }
          ],
          "heatmapgl": [
           {
            "colorbar": {
             "outlinewidth": 0,
             "ticks": ""
            },
            "colorscale": [
             [
              0,
              "#0d0887"
             ],
             [
              0.1111111111111111,
              "#46039f"
             ],
             [
              0.2222222222222222,
              "#7201a8"
             ],
             [
              0.3333333333333333,
              "#9c179e"
             ],
             [
              0.4444444444444444,
              "#bd3786"
             ],
             [
              0.5555555555555556,
              "#d8576b"
             ],
             [
              0.6666666666666666,
              "#ed7953"
             ],
             [
              0.7777777777777778,
              "#fb9f3a"
             ],
             [
              0.8888888888888888,
              "#fdca26"
             ],
             [
              1,
              "#f0f921"
             ]
            ],
            "type": "heatmapgl"
           }
          ],
          "histogram": [
           {
            "marker": {
             "pattern": {
              "fillmode": "overlay",
              "size": 10,
              "solidity": 0.2
             }
            },
            "type": "histogram"
           }
          ],
          "histogram2d": [
           {
            "colorbar": {
             "outlinewidth": 0,
             "ticks": ""
            },
            "colorscale": [
             [
              0,
              "#0d0887"
             ],
             [
              0.1111111111111111,
              "#46039f"
             ],
             [
              0.2222222222222222,
              "#7201a8"
             ],
             [
              0.3333333333333333,
              "#9c179e"
             ],
             [
              0.4444444444444444,
              "#bd3786"
             ],
             [
              0.5555555555555556,
              "#d8576b"
             ],
             [
              0.6666666666666666,
              "#ed7953"
             ],
             [
              0.7777777777777778,
              "#fb9f3a"
             ],
             [
              0.8888888888888888,
              "#fdca26"
             ],
             [
              1,
              "#f0f921"
             ]
            ],
            "type": "histogram2d"
           }
          ],
          "histogram2dcontour": [
           {
            "colorbar": {
             "outlinewidth": 0,
             "ticks": ""
            },
            "colorscale": [
             [
              0,
              "#0d0887"
             ],
             [
              0.1111111111111111,
              "#46039f"
             ],
             [
              0.2222222222222222,
              "#7201a8"
             ],
             [
              0.3333333333333333,
              "#9c179e"
             ],
             [
              0.4444444444444444,
              "#bd3786"
             ],
             [
              0.5555555555555556,
              "#d8576b"
             ],
             [
              0.6666666666666666,
              "#ed7953"
             ],
             [
              0.7777777777777778,
              "#fb9f3a"
             ],
             [
              0.8888888888888888,
              "#fdca26"
             ],
             [
              1,
              "#f0f921"
             ]
            ],
            "type": "histogram2dcontour"
           }
          ],
          "mesh3d": [
           {
            "colorbar": {
             "outlinewidth": 0,
             "ticks": ""
            },
            "type": "mesh3d"
           }
          ],
          "parcoords": [
           {
            "line": {
             "colorbar": {
              "outlinewidth": 0,
              "ticks": ""
             }
            },
            "type": "parcoords"
           }
          ],
          "pie": [
           {
            "automargin": true,
            "type": "pie"
           }
          ],
          "scatter": [
           {
            "fillpattern": {
             "fillmode": "overlay",
             "size": 10,
             "solidity": 0.2
            },
            "type": "scatter"
           }
          ],
          "scatter3d": [
           {
            "line": {
             "colorbar": {
              "outlinewidth": 0,
              "ticks": ""
             }
            },
            "marker": {
             "colorbar": {
              "outlinewidth": 0,
              "ticks": ""
             }
            },
            "type": "scatter3d"
           }
          ],
          "scattercarpet": [
           {
            "marker": {
             "colorbar": {
              "outlinewidth": 0,
              "ticks": ""
             }
            },
            "type": "scattercarpet"
           }
          ],
          "scattergeo": [
           {
            "marker": {
             "colorbar": {
              "outlinewidth": 0,
              "ticks": ""
             }
            },
            "type": "scattergeo"
           }
          ],
          "scattergl": [
           {
            "marker": {
             "colorbar": {
              "outlinewidth": 0,
              "ticks": ""
             }
            },
            "type": "scattergl"
           }
          ],
          "scattermapbox": [
           {
            "marker": {
             "colorbar": {
              "outlinewidth": 0,
              "ticks": ""
             }
            },
            "type": "scattermapbox"
           }
          ],
          "scatterpolar": [
           {
            "marker": {
             "colorbar": {
              "outlinewidth": 0,
              "ticks": ""
             }
            },
            "type": "scatterpolar"
           }
          ],
          "scatterpolargl": [
           {
            "marker": {
             "colorbar": {
              "outlinewidth": 0,
              "ticks": ""
             }
            },
            "type": "scatterpolargl"
           }
          ],
          "scatterternary": [
           {
            "marker": {
             "colorbar": {
              "outlinewidth": 0,
              "ticks": ""
             }
            },
            "type": "scatterternary"
           }
          ],
          "surface": [
           {
            "colorbar": {
             "outlinewidth": 0,
             "ticks": ""
            },
            "colorscale": [
             [
              0,
              "#0d0887"
             ],
             [
              0.1111111111111111,
              "#46039f"
             ],
             [
              0.2222222222222222,
              "#7201a8"
             ],
             [
              0.3333333333333333,
              "#9c179e"
             ],
             [
              0.4444444444444444,
              "#bd3786"
             ],
             [
              0.5555555555555556,
              "#d8576b"
             ],
             [
              0.6666666666666666,
              "#ed7953"
             ],
             [
              0.7777777777777778,
              "#fb9f3a"
             ],
             [
              0.8888888888888888,
              "#fdca26"
             ],
             [
              1,
              "#f0f921"
             ]
            ],
            "type": "surface"
           }
          ],
          "table": [
           {
            "cells": {
             "fill": {
              "color": "#EBF0F8"
             },
             "line": {
              "color": "white"
             }
            },
            "header": {
             "fill": {
              "color": "#C8D4E3"
             },
             "line": {
              "color": "white"
             }
            },
            "type": "table"
           }
          ]
         },
         "layout": {
          "annotationdefaults": {
           "arrowcolor": "#2a3f5f",
           "arrowhead": 0,
           "arrowwidth": 1
          },
          "autotypenumbers": "strict",
          "coloraxis": {
           "colorbar": {
            "outlinewidth": 0,
            "ticks": ""
           }
          },
          "colorscale": {
           "diverging": [
            [
             0,
             "#8e0152"
            ],
            [
             0.1,
             "#c51b7d"
            ],
            [
             0.2,
             "#de77ae"
            ],
            [
             0.3,
             "#f1b6da"
            ],
            [
             0.4,
             "#fde0ef"
            ],
            [
             0.5,
             "#f7f7f7"
            ],
            [
             0.6,
             "#e6f5d0"
            ],
            [
             0.7,
             "#b8e186"
            ],
            [
             0.8,
             "#7fbc41"
            ],
            [
             0.9,
             "#4d9221"
            ],
            [
             1,
             "#276419"
            ]
           ],
           "sequential": [
            [
             0,
             "#0d0887"
            ],
            [
             0.1111111111111111,
             "#46039f"
            ],
            [
             0.2222222222222222,
             "#7201a8"
            ],
            [
             0.3333333333333333,
             "#9c179e"
            ],
            [
             0.4444444444444444,
             "#bd3786"
            ],
            [
             0.5555555555555556,
             "#d8576b"
            ],
            [
             0.6666666666666666,
             "#ed7953"
            ],
            [
             0.7777777777777778,
             "#fb9f3a"
            ],
            [
             0.8888888888888888,
             "#fdca26"
            ],
            [
             1,
             "#f0f921"
            ]
           ],
           "sequentialminus": [
            [
             0,
             "#0d0887"
            ],
            [
             0.1111111111111111,
             "#46039f"
            ],
            [
             0.2222222222222222,
             "#7201a8"
            ],
            [
             0.3333333333333333,
             "#9c179e"
            ],
            [
             0.4444444444444444,
             "#bd3786"
            ],
            [
             0.5555555555555556,
             "#d8576b"
            ],
            [
             0.6666666666666666,
             "#ed7953"
            ],
            [
             0.7777777777777778,
             "#fb9f3a"
            ],
            [
             0.8888888888888888,
             "#fdca26"
            ],
            [
             1,
             "#f0f921"
            ]
           ]
          },
          "colorway": [
           "#636efa",
           "#EF553B",
           "#00cc96",
           "#ab63fa",
           "#FFA15A",
           "#19d3f3",
           "#FF6692",
           "#B6E880",
           "#FF97FF",
           "#FECB52"
          ],
          "font": {
           "color": "#2a3f5f"
          },
          "geo": {
           "bgcolor": "white",
           "lakecolor": "white",
           "landcolor": "#E5ECF6",
           "showlakes": true,
           "showland": true,
           "subunitcolor": "white"
          },
          "hoverlabel": {
           "align": "left"
          },
          "hovermode": "closest",
          "mapbox": {
           "style": "light"
          },
          "paper_bgcolor": "white",
          "plot_bgcolor": "#E5ECF6",
          "polar": {
           "angularaxis": {
            "gridcolor": "white",
            "linecolor": "white",
            "ticks": ""
           },
           "bgcolor": "#E5ECF6",
           "radialaxis": {
            "gridcolor": "white",
            "linecolor": "white",
            "ticks": ""
           }
          },
          "scene": {
           "xaxis": {
            "backgroundcolor": "#E5ECF6",
            "gridcolor": "white",
            "gridwidth": 2,
            "linecolor": "white",
            "showbackground": true,
            "ticks": "",
            "zerolinecolor": "white"
           },
           "yaxis": {
            "backgroundcolor": "#E5ECF6",
            "gridcolor": "white",
            "gridwidth": 2,
            "linecolor": "white",
            "showbackground": true,
            "ticks": "",
            "zerolinecolor": "white"
           },
           "zaxis": {
            "backgroundcolor": "#E5ECF6",
            "gridcolor": "white",
            "gridwidth": 2,
            "linecolor": "white",
            "showbackground": true,
            "ticks": "",
            "zerolinecolor": "white"
           }
          },
          "shapedefaults": {
           "line": {
            "color": "#2a3f5f"
           }
          },
          "ternary": {
           "aaxis": {
            "gridcolor": "white",
            "linecolor": "white",
            "ticks": ""
           },
           "baxis": {
            "gridcolor": "white",
            "linecolor": "white",
            "ticks": ""
           },
           "bgcolor": "#E5ECF6",
           "caxis": {
            "gridcolor": "white",
            "linecolor": "white",
            "ticks": ""
           }
          },
          "title": {
           "x": 0.05
          },
          "xaxis": {
           "automargin": true,
           "gridcolor": "white",
           "linecolor": "white",
           "ticks": "",
           "title": {
            "standoff": 15
           },
           "zerolinecolor": "white",
           "zerolinewidth": 2
          },
          "yaxis": {
           "automargin": true,
           "gridcolor": "white",
           "linecolor": "white",
           "ticks": "",
           "title": {
            "standoff": 15
           },
           "zerolinecolor": "white",
           "zerolinewidth": 2
          }
         }
        },
        "title": {
         "text": "Top 10 Average Rating by Year"
        },
        "xaxis": {
         "anchor": "y",
         "domain": [
          0,
          1
         ],
         "title": {
          "text": "Year"
         }
        },
        "yaxis": {
         "anchor": "x",
         "domain": [
          0,
          1
         ],
         "title": {
          "text": "AverageRating"
         }
        }
       }
      }
     },
     "metadata": {},
     "output_type": "display_data"
    }
   ],
   "source": [
    "# Buat variable untuk menampilkan visualisasi Line chart\n",
    "figRankYear = px.line(result.sort_index(),\n",
    "              y = 'AverageRating',\n",
    "              x = 'Year',\n",
    "              title='Top 10 Average Rating by Year',\n",
    "              )\n",
    "\n",
    "figRankYear.show()"
   ]
  },
  {
   "cell_type": "markdown",
   "metadata": {},
   "source": [
    "Dapat diketahui bahwa rating rata-rata tertinggi pada industri perfilman terdapat pada tahun 1990 dengan nilai rata-rata sebesar 7.24"
   ]
  },
  {
   "cell_type": "code",
   "execution_count": 22,
   "metadata": {},
   "outputs": [],
   "source": [
    "# Mencari tau film apa yang memiliki rating tertinggi pada tahun 1990.\n",
    "Movie1990 = df_clean.loc[df_clean['Year'] == 1990].sort_values(by='Rating',ascending=False).head(10)"
   ]
  },
  {
   "cell_type": "code",
   "execution_count": 23,
   "metadata": {},
   "outputs": [
    {
     "data": {
      "application/vnd.plotly.v1+json": {
       "config": {
        "plotlyServerURL": "https://plot.ly"
       },
       "data": [
        {
         "alignmentgroup": "True",
         "hovertemplate": "Title_Year=%{x}<br>Rating=%{marker.color}<extra></extra>",
         "legendgroup": "",
         "marker": {
          "color": [
           8.5,
           8.4,
           8.3,
           8.2,
           8.1,
           8.1,
           8,
           8,
           7.9,
           7.9
          ],
          "coloraxis": "coloraxis",
          "pattern": {
           "shape": ""
          }
         },
         "name": "",
         "offsetgroup": "",
         "orientation": "v",
         "showlegend": false,
         "textposition": "auto",
         "type": "bar",
         "x": [
          "Rear Window (1990)",
          "WALL·E (1990)",
          "Le fabuleux destin d'Amélie Poulain (1990)",
          "Gone with the Wind (1990)",
          "Into the Wild (1990)",
          "The Sound of Music (1990)",
          "Young Frankenstein (1990)",
          "Rosemary's Baby (1990)",
          "Wonder (1990)",
          "Zack Snyder's Justice League (1990)"
         ],
         "xaxis": "x",
         "y": [
          8.5,
          8.4,
          8.3,
          8.2,
          8.1,
          8.1,
          8,
          8,
          7.9,
          7.9
         ],
         "yaxis": "y"
        }
       ],
       "layout": {
        "barmode": "relative",
        "coloraxis": {
         "colorbar": {
          "title": {
           "text": "Rating"
          }
         },
         "colorscale": [
          [
           0,
           "rgb(247,252,245)"
          ],
          [
           0.125,
           "rgb(229,245,224)"
          ],
          [
           0.25,
           "rgb(199,233,192)"
          ],
          [
           0.375,
           "rgb(161,217,155)"
          ],
          [
           0.5,
           "rgb(116,196,118)"
          ],
          [
           0.625,
           "rgb(65,171,93)"
          ],
          [
           0.75,
           "rgb(35,139,69)"
          ],
          [
           0.875,
           "rgb(0,109,44)"
          ],
          [
           1,
           "rgb(0,68,27)"
          ]
         ]
        },
        "legend": {
         "tracegroupgap": 0
        },
        "template": {
         "data": {
          "bar": [
           {
            "error_x": {
             "color": "#2a3f5f"
            },
            "error_y": {
             "color": "#2a3f5f"
            },
            "marker": {
             "line": {
              "color": "#E5ECF6",
              "width": 0.5
             },
             "pattern": {
              "fillmode": "overlay",
              "size": 10,
              "solidity": 0.2
             }
            },
            "type": "bar"
           }
          ],
          "barpolar": [
           {
            "marker": {
             "line": {
              "color": "#E5ECF6",
              "width": 0.5
             },
             "pattern": {
              "fillmode": "overlay",
              "size": 10,
              "solidity": 0.2
             }
            },
            "type": "barpolar"
           }
          ],
          "carpet": [
           {
            "aaxis": {
             "endlinecolor": "#2a3f5f",
             "gridcolor": "white",
             "linecolor": "white",
             "minorgridcolor": "white",
             "startlinecolor": "#2a3f5f"
            },
            "baxis": {
             "endlinecolor": "#2a3f5f",
             "gridcolor": "white",
             "linecolor": "white",
             "minorgridcolor": "white",
             "startlinecolor": "#2a3f5f"
            },
            "type": "carpet"
           }
          ],
          "choropleth": [
           {
            "colorbar": {
             "outlinewidth": 0,
             "ticks": ""
            },
            "type": "choropleth"
           }
          ],
          "contour": [
           {
            "colorbar": {
             "outlinewidth": 0,
             "ticks": ""
            },
            "colorscale": [
             [
              0,
              "#0d0887"
             ],
             [
              0.1111111111111111,
              "#46039f"
             ],
             [
              0.2222222222222222,
              "#7201a8"
             ],
             [
              0.3333333333333333,
              "#9c179e"
             ],
             [
              0.4444444444444444,
              "#bd3786"
             ],
             [
              0.5555555555555556,
              "#d8576b"
             ],
             [
              0.6666666666666666,
              "#ed7953"
             ],
             [
              0.7777777777777778,
              "#fb9f3a"
             ],
             [
              0.8888888888888888,
              "#fdca26"
             ],
             [
              1,
              "#f0f921"
             ]
            ],
            "type": "contour"
           }
          ],
          "contourcarpet": [
           {
            "colorbar": {
             "outlinewidth": 0,
             "ticks": ""
            },
            "type": "contourcarpet"
           }
          ],
          "heatmap": [
           {
            "colorbar": {
             "outlinewidth": 0,
             "ticks": ""
            },
            "colorscale": [
             [
              0,
              "#0d0887"
             ],
             [
              0.1111111111111111,
              "#46039f"
             ],
             [
              0.2222222222222222,
              "#7201a8"
             ],
             [
              0.3333333333333333,
              "#9c179e"
             ],
             [
              0.4444444444444444,
              "#bd3786"
             ],
             [
              0.5555555555555556,
              "#d8576b"
             ],
             [
              0.6666666666666666,
              "#ed7953"
             ],
             [
              0.7777777777777778,
              "#fb9f3a"
             ],
             [
              0.8888888888888888,
              "#fdca26"
             ],
             [
              1,
              "#f0f921"
             ]
            ],
            "type": "heatmap"
           }
          ],
          "heatmapgl": [
           {
            "colorbar": {
             "outlinewidth": 0,
             "ticks": ""
            },
            "colorscale": [
             [
              0,
              "#0d0887"
             ],
             [
              0.1111111111111111,
              "#46039f"
             ],
             [
              0.2222222222222222,
              "#7201a8"
             ],
             [
              0.3333333333333333,
              "#9c179e"
             ],
             [
              0.4444444444444444,
              "#bd3786"
             ],
             [
              0.5555555555555556,
              "#d8576b"
             ],
             [
              0.6666666666666666,
              "#ed7953"
             ],
             [
              0.7777777777777778,
              "#fb9f3a"
             ],
             [
              0.8888888888888888,
              "#fdca26"
             ],
             [
              1,
              "#f0f921"
             ]
            ],
            "type": "heatmapgl"
           }
          ],
          "histogram": [
           {
            "marker": {
             "pattern": {
              "fillmode": "overlay",
              "size": 10,
              "solidity": 0.2
             }
            },
            "type": "histogram"
           }
          ],
          "histogram2d": [
           {
            "colorbar": {
             "outlinewidth": 0,
             "ticks": ""
            },
            "colorscale": [
             [
              0,
              "#0d0887"
             ],
             [
              0.1111111111111111,
              "#46039f"
             ],
             [
              0.2222222222222222,
              "#7201a8"
             ],
             [
              0.3333333333333333,
              "#9c179e"
             ],
             [
              0.4444444444444444,
              "#bd3786"
             ],
             [
              0.5555555555555556,
              "#d8576b"
             ],
             [
              0.6666666666666666,
              "#ed7953"
             ],
             [
              0.7777777777777778,
              "#fb9f3a"
             ],
             [
              0.8888888888888888,
              "#fdca26"
             ],
             [
              1,
              "#f0f921"
             ]
            ],
            "type": "histogram2d"
           }
          ],
          "histogram2dcontour": [
           {
            "colorbar": {
             "outlinewidth": 0,
             "ticks": ""
            },
            "colorscale": [
             [
              0,
              "#0d0887"
             ],
             [
              0.1111111111111111,
              "#46039f"
             ],
             [
              0.2222222222222222,
              "#7201a8"
             ],
             [
              0.3333333333333333,
              "#9c179e"
             ],
             [
              0.4444444444444444,
              "#bd3786"
             ],
             [
              0.5555555555555556,
              "#d8576b"
             ],
             [
              0.6666666666666666,
              "#ed7953"
             ],
             [
              0.7777777777777778,
              "#fb9f3a"
             ],
             [
              0.8888888888888888,
              "#fdca26"
             ],
             [
              1,
              "#f0f921"
             ]
            ],
            "type": "histogram2dcontour"
           }
          ],
          "mesh3d": [
           {
            "colorbar": {
             "outlinewidth": 0,
             "ticks": ""
            },
            "type": "mesh3d"
           }
          ],
          "parcoords": [
           {
            "line": {
             "colorbar": {
              "outlinewidth": 0,
              "ticks": ""
             }
            },
            "type": "parcoords"
           }
          ],
          "pie": [
           {
            "automargin": true,
            "type": "pie"
           }
          ],
          "scatter": [
           {
            "fillpattern": {
             "fillmode": "overlay",
             "size": 10,
             "solidity": 0.2
            },
            "type": "scatter"
           }
          ],
          "scatter3d": [
           {
            "line": {
             "colorbar": {
              "outlinewidth": 0,
              "ticks": ""
             }
            },
            "marker": {
             "colorbar": {
              "outlinewidth": 0,
              "ticks": ""
             }
            },
            "type": "scatter3d"
           }
          ],
          "scattercarpet": [
           {
            "marker": {
             "colorbar": {
              "outlinewidth": 0,
              "ticks": ""
             }
            },
            "type": "scattercarpet"
           }
          ],
          "scattergeo": [
           {
            "marker": {
             "colorbar": {
              "outlinewidth": 0,
              "ticks": ""
             }
            },
            "type": "scattergeo"
           }
          ],
          "scattergl": [
           {
            "marker": {
             "colorbar": {
              "outlinewidth": 0,
              "ticks": ""
             }
            },
            "type": "scattergl"
           }
          ],
          "scattermapbox": [
           {
            "marker": {
             "colorbar": {
              "outlinewidth": 0,
              "ticks": ""
             }
            },
            "type": "scattermapbox"
           }
          ],
          "scatterpolar": [
           {
            "marker": {
             "colorbar": {
              "outlinewidth": 0,
              "ticks": ""
             }
            },
            "type": "scatterpolar"
           }
          ],
          "scatterpolargl": [
           {
            "marker": {
             "colorbar": {
              "outlinewidth": 0,
              "ticks": ""
             }
            },
            "type": "scatterpolargl"
           }
          ],
          "scatterternary": [
           {
            "marker": {
             "colorbar": {
              "outlinewidth": 0,
              "ticks": ""
             }
            },
            "type": "scatterternary"
           }
          ],
          "surface": [
           {
            "colorbar": {
             "outlinewidth": 0,
             "ticks": ""
            },
            "colorscale": [
             [
              0,
              "#0d0887"
             ],
             [
              0.1111111111111111,
              "#46039f"
             ],
             [
              0.2222222222222222,
              "#7201a8"
             ],
             [
              0.3333333333333333,
              "#9c179e"
             ],
             [
              0.4444444444444444,
              "#bd3786"
             ],
             [
              0.5555555555555556,
              "#d8576b"
             ],
             [
              0.6666666666666666,
              "#ed7953"
             ],
             [
              0.7777777777777778,
              "#fb9f3a"
             ],
             [
              0.8888888888888888,
              "#fdca26"
             ],
             [
              1,
              "#f0f921"
             ]
            ],
            "type": "surface"
           }
          ],
          "table": [
           {
            "cells": {
             "fill": {
              "color": "#EBF0F8"
             },
             "line": {
              "color": "white"
             }
            },
            "header": {
             "fill": {
              "color": "#C8D4E3"
             },
             "line": {
              "color": "white"
             }
            },
            "type": "table"
           }
          ]
         },
         "layout": {
          "annotationdefaults": {
           "arrowcolor": "#2a3f5f",
           "arrowhead": 0,
           "arrowwidth": 1
          },
          "autotypenumbers": "strict",
          "coloraxis": {
           "colorbar": {
            "outlinewidth": 0,
            "ticks": ""
           }
          },
          "colorscale": {
           "diverging": [
            [
             0,
             "#8e0152"
            ],
            [
             0.1,
             "#c51b7d"
            ],
            [
             0.2,
             "#de77ae"
            ],
            [
             0.3,
             "#f1b6da"
            ],
            [
             0.4,
             "#fde0ef"
            ],
            [
             0.5,
             "#f7f7f7"
            ],
            [
             0.6,
             "#e6f5d0"
            ],
            [
             0.7,
             "#b8e186"
            ],
            [
             0.8,
             "#7fbc41"
            ],
            [
             0.9,
             "#4d9221"
            ],
            [
             1,
             "#276419"
            ]
           ],
           "sequential": [
            [
             0,
             "#0d0887"
            ],
            [
             0.1111111111111111,
             "#46039f"
            ],
            [
             0.2222222222222222,
             "#7201a8"
            ],
            [
             0.3333333333333333,
             "#9c179e"
            ],
            [
             0.4444444444444444,
             "#bd3786"
            ],
            [
             0.5555555555555556,
             "#d8576b"
            ],
            [
             0.6666666666666666,
             "#ed7953"
            ],
            [
             0.7777777777777778,
             "#fb9f3a"
            ],
            [
             0.8888888888888888,
             "#fdca26"
            ],
            [
             1,
             "#f0f921"
            ]
           ],
           "sequentialminus": [
            [
             0,
             "#0d0887"
            ],
            [
             0.1111111111111111,
             "#46039f"
            ],
            [
             0.2222222222222222,
             "#7201a8"
            ],
            [
             0.3333333333333333,
             "#9c179e"
            ],
            [
             0.4444444444444444,
             "#bd3786"
            ],
            [
             0.5555555555555556,
             "#d8576b"
            ],
            [
             0.6666666666666666,
             "#ed7953"
            ],
            [
             0.7777777777777778,
             "#fb9f3a"
            ],
            [
             0.8888888888888888,
             "#fdca26"
            ],
            [
             1,
             "#f0f921"
            ]
           ]
          },
          "colorway": [
           "#636efa",
           "#EF553B",
           "#00cc96",
           "#ab63fa",
           "#FFA15A",
           "#19d3f3",
           "#FF6692",
           "#B6E880",
           "#FF97FF",
           "#FECB52"
          ],
          "font": {
           "color": "#2a3f5f"
          },
          "geo": {
           "bgcolor": "white",
           "lakecolor": "white",
           "landcolor": "#E5ECF6",
           "showlakes": true,
           "showland": true,
           "subunitcolor": "white"
          },
          "hoverlabel": {
           "align": "left"
          },
          "hovermode": "closest",
          "mapbox": {
           "style": "light"
          },
          "paper_bgcolor": "white",
          "plot_bgcolor": "#E5ECF6",
          "polar": {
           "angularaxis": {
            "gridcolor": "white",
            "linecolor": "white",
            "ticks": ""
           },
           "bgcolor": "#E5ECF6",
           "radialaxis": {
            "gridcolor": "white",
            "linecolor": "white",
            "ticks": ""
           }
          },
          "scene": {
           "xaxis": {
            "backgroundcolor": "#E5ECF6",
            "gridcolor": "white",
            "gridwidth": 2,
            "linecolor": "white",
            "showbackground": true,
            "ticks": "",
            "zerolinecolor": "white"
           },
           "yaxis": {
            "backgroundcolor": "#E5ECF6",
            "gridcolor": "white",
            "gridwidth": 2,
            "linecolor": "white",
            "showbackground": true,
            "ticks": "",
            "zerolinecolor": "white"
           },
           "zaxis": {
            "backgroundcolor": "#E5ECF6",
            "gridcolor": "white",
            "gridwidth": 2,
            "linecolor": "white",
            "showbackground": true,
            "ticks": "",
            "zerolinecolor": "white"
           }
          },
          "shapedefaults": {
           "line": {
            "color": "#2a3f5f"
           }
          },
          "ternary": {
           "aaxis": {
            "gridcolor": "white",
            "linecolor": "white",
            "ticks": ""
           },
           "baxis": {
            "gridcolor": "white",
            "linecolor": "white",
            "ticks": ""
           },
           "bgcolor": "#E5ECF6",
           "caxis": {
            "gridcolor": "white",
            "linecolor": "white",
            "ticks": ""
           }
          },
          "title": {
           "x": 0.05
          },
          "xaxis": {
           "automargin": true,
           "gridcolor": "white",
           "linecolor": "white",
           "ticks": "",
           "title": {
            "standoff": 15
           },
           "zerolinecolor": "white",
           "zerolinewidth": 2
          },
          "yaxis": {
           "automargin": true,
           "gridcolor": "white",
           "linecolor": "white",
           "ticks": "",
           "title": {
            "standoff": 15
           },
           "zerolinecolor": "white",
           "zerolinewidth": 2
          }
         }
        },
        "title": {
         "text": "Top 10 Highest Movie Rating in 1990"
        },
        "xaxis": {
         "anchor": "y",
         "domain": [
          0,
          1
         ],
         "title": {
          "text": "Title_Year"
         }
        },
        "yaxis": {
         "anchor": "x",
         "categoryorder": "total ascending",
         "domain": [
          0,
          1
         ],
         "title": {
          "text": "Rating"
         }
        }
       }
      }
     },
     "metadata": {},
     "output_type": "display_data"
    },
    {
     "data": {
      "application/vnd.plotly.v1+json": {
       "config": {
        "plotlyServerURL": "https://plot.ly"
       },
       "data": [
        {
         "alignmentgroup": "True",
         "hovertemplate": "Movie Title and Year=%{x}<br>Votes=%{y}<br>Rating=%{marker.color}<extra></extra>",
         "legendgroup": "",
         "marker": {
          "color": [
           8.5,
           8.4,
           8.3,
           8.2,
           8.1,
           8.1,
           8,
           8,
           7.9,
           7.9
          ],
          "coloraxis": "coloraxis",
          "pattern": {
           "shape": ""
          }
         },
         "name": "",
         "offsetgroup": "",
         "orientation": "v",
         "showlegend": false,
         "textposition": "auto",
         "type": "bar",
         "x": [
          "Rear Window (1990)",
          "WALL·E (1990)",
          "Le fabuleux destin d'Amélie Poulain (1990)",
          "Gone with the Wind (1990)",
          "Into the Wild (1990)",
          "The Sound of Music (1990)",
          "Young Frankenstein (1990)",
          "Rosemary's Baby (1990)",
          "Wonder (1990)",
          "Zack Snyder's Justice League (1990)"
         ],
         "xaxis": "x",
         "y": [
          523051,
          1202506,
          795230,
          334804,
          658956,
          261572,
          169119,
          235662,
          178736,
          439223
         ],
         "yaxis": "y"
        }
       ],
       "layout": {
        "barmode": "relative",
        "coloraxis": {
         "colorbar": {
          "title": {
           "text": "Rating"
          }
         },
         "colorscale": [
          [
           0,
           "#440154"
          ],
          [
           0.1111111111111111,
           "#482878"
          ],
          [
           0.2222222222222222,
           "#3e4989"
          ],
          [
           0.3333333333333333,
           "#31688e"
          ],
          [
           0.4444444444444444,
           "#26828e"
          ],
          [
           0.5555555555555556,
           "#1f9e89"
          ],
          [
           0.6666666666666666,
           "#35b779"
          ],
          [
           0.7777777777777778,
           "#6ece58"
          ],
          [
           0.8888888888888888,
           "#b5de2b"
          ],
          [
           1,
           "#fde725"
          ]
         ]
        },
        "legend": {
         "tracegroupgap": 0
        },
        "template": {
         "data": {
          "bar": [
           {
            "error_x": {
             "color": "#2a3f5f"
            },
            "error_y": {
             "color": "#2a3f5f"
            },
            "marker": {
             "line": {
              "color": "#E5ECF6",
              "width": 0.5
             },
             "pattern": {
              "fillmode": "overlay",
              "size": 10,
              "solidity": 0.2
             }
            },
            "type": "bar"
           }
          ],
          "barpolar": [
           {
            "marker": {
             "line": {
              "color": "#E5ECF6",
              "width": 0.5
             },
             "pattern": {
              "fillmode": "overlay",
              "size": 10,
              "solidity": 0.2
             }
            },
            "type": "barpolar"
           }
          ],
          "carpet": [
           {
            "aaxis": {
             "endlinecolor": "#2a3f5f",
             "gridcolor": "white",
             "linecolor": "white",
             "minorgridcolor": "white",
             "startlinecolor": "#2a3f5f"
            },
            "baxis": {
             "endlinecolor": "#2a3f5f",
             "gridcolor": "white",
             "linecolor": "white",
             "minorgridcolor": "white",
             "startlinecolor": "#2a3f5f"
            },
            "type": "carpet"
           }
          ],
          "choropleth": [
           {
            "colorbar": {
             "outlinewidth": 0,
             "ticks": ""
            },
            "type": "choropleth"
           }
          ],
          "contour": [
           {
            "colorbar": {
             "outlinewidth": 0,
             "ticks": ""
            },
            "colorscale": [
             [
              0,
              "#0d0887"
             ],
             [
              0.1111111111111111,
              "#46039f"
             ],
             [
              0.2222222222222222,
              "#7201a8"
             ],
             [
              0.3333333333333333,
              "#9c179e"
             ],
             [
              0.4444444444444444,
              "#bd3786"
             ],
             [
              0.5555555555555556,
              "#d8576b"
             ],
             [
              0.6666666666666666,
              "#ed7953"
             ],
             [
              0.7777777777777778,
              "#fb9f3a"
             ],
             [
              0.8888888888888888,
              "#fdca26"
             ],
             [
              1,
              "#f0f921"
             ]
            ],
            "type": "contour"
           }
          ],
          "contourcarpet": [
           {
            "colorbar": {
             "outlinewidth": 0,
             "ticks": ""
            },
            "type": "contourcarpet"
           }
          ],
          "heatmap": [
           {
            "colorbar": {
             "outlinewidth": 0,
             "ticks": ""
            },
            "colorscale": [
             [
              0,
              "#0d0887"
             ],
             [
              0.1111111111111111,
              "#46039f"
             ],
             [
              0.2222222222222222,
              "#7201a8"
             ],
             [
              0.3333333333333333,
              "#9c179e"
             ],
             [
              0.4444444444444444,
              "#bd3786"
             ],
             [
              0.5555555555555556,
              "#d8576b"
             ],
             [
              0.6666666666666666,
              "#ed7953"
             ],
             [
              0.7777777777777778,
              "#fb9f3a"
             ],
             [
              0.8888888888888888,
              "#fdca26"
             ],
             [
              1,
              "#f0f921"
             ]
            ],
            "type": "heatmap"
           }
          ],
          "heatmapgl": [
           {
            "colorbar": {
             "outlinewidth": 0,
             "ticks": ""
            },
            "colorscale": [
             [
              0,
              "#0d0887"
             ],
             [
              0.1111111111111111,
              "#46039f"
             ],
             [
              0.2222222222222222,
              "#7201a8"
             ],
             [
              0.3333333333333333,
              "#9c179e"
             ],
             [
              0.4444444444444444,
              "#bd3786"
             ],
             [
              0.5555555555555556,
              "#d8576b"
             ],
             [
              0.6666666666666666,
              "#ed7953"
             ],
             [
              0.7777777777777778,
              "#fb9f3a"
             ],
             [
              0.8888888888888888,
              "#fdca26"
             ],
             [
              1,
              "#f0f921"
             ]
            ],
            "type": "heatmapgl"
           }
          ],
          "histogram": [
           {
            "marker": {
             "pattern": {
              "fillmode": "overlay",
              "size": 10,
              "solidity": 0.2
             }
            },
            "type": "histogram"
           }
          ],
          "histogram2d": [
           {
            "colorbar": {
             "outlinewidth": 0,
             "ticks": ""
            },
            "colorscale": [
             [
              0,
              "#0d0887"
             ],
             [
              0.1111111111111111,
              "#46039f"
             ],
             [
              0.2222222222222222,
              "#7201a8"
             ],
             [
              0.3333333333333333,
              "#9c179e"
             ],
             [
              0.4444444444444444,
              "#bd3786"
             ],
             [
              0.5555555555555556,
              "#d8576b"
             ],
             [
              0.6666666666666666,
              "#ed7953"
             ],
             [
              0.7777777777777778,
              "#fb9f3a"
             ],
             [
              0.8888888888888888,
              "#fdca26"
             ],
             [
              1,
              "#f0f921"
             ]
            ],
            "type": "histogram2d"
           }
          ],
          "histogram2dcontour": [
           {
            "colorbar": {
             "outlinewidth": 0,
             "ticks": ""
            },
            "colorscale": [
             [
              0,
              "#0d0887"
             ],
             [
              0.1111111111111111,
              "#46039f"
             ],
             [
              0.2222222222222222,
              "#7201a8"
             ],
             [
              0.3333333333333333,
              "#9c179e"
             ],
             [
              0.4444444444444444,
              "#bd3786"
             ],
             [
              0.5555555555555556,
              "#d8576b"
             ],
             [
              0.6666666666666666,
              "#ed7953"
             ],
             [
              0.7777777777777778,
              "#fb9f3a"
             ],
             [
              0.8888888888888888,
              "#fdca26"
             ],
             [
              1,
              "#f0f921"
             ]
            ],
            "type": "histogram2dcontour"
           }
          ],
          "mesh3d": [
           {
            "colorbar": {
             "outlinewidth": 0,
             "ticks": ""
            },
            "type": "mesh3d"
           }
          ],
          "parcoords": [
           {
            "line": {
             "colorbar": {
              "outlinewidth": 0,
              "ticks": ""
             }
            },
            "type": "parcoords"
           }
          ],
          "pie": [
           {
            "automargin": true,
            "type": "pie"
           }
          ],
          "scatter": [
           {
            "fillpattern": {
             "fillmode": "overlay",
             "size": 10,
             "solidity": 0.2
            },
            "type": "scatter"
           }
          ],
          "scatter3d": [
           {
            "line": {
             "colorbar": {
              "outlinewidth": 0,
              "ticks": ""
             }
            },
            "marker": {
             "colorbar": {
              "outlinewidth": 0,
              "ticks": ""
             }
            },
            "type": "scatter3d"
           }
          ],
          "scattercarpet": [
           {
            "marker": {
             "colorbar": {
              "outlinewidth": 0,
              "ticks": ""
             }
            },
            "type": "scattercarpet"
           }
          ],
          "scattergeo": [
           {
            "marker": {
             "colorbar": {
              "outlinewidth": 0,
              "ticks": ""
             }
            },
            "type": "scattergeo"
           }
          ],
          "scattergl": [
           {
            "marker": {
             "colorbar": {
              "outlinewidth": 0,
              "ticks": ""
             }
            },
            "type": "scattergl"
           }
          ],
          "scattermapbox": [
           {
            "marker": {
             "colorbar": {
              "outlinewidth": 0,
              "ticks": ""
             }
            },
            "type": "scattermapbox"
           }
          ],
          "scatterpolar": [
           {
            "marker": {
             "colorbar": {
              "outlinewidth": 0,
              "ticks": ""
             }
            },
            "type": "scatterpolar"
           }
          ],
          "scatterpolargl": [
           {
            "marker": {
             "colorbar": {
              "outlinewidth": 0,
              "ticks": ""
             }
            },
            "type": "scatterpolargl"
           }
          ],
          "scatterternary": [
           {
            "marker": {
             "colorbar": {
              "outlinewidth": 0,
              "ticks": ""
             }
            },
            "type": "scatterternary"
           }
          ],
          "surface": [
           {
            "colorbar": {
             "outlinewidth": 0,
             "ticks": ""
            },
            "colorscale": [
             [
              0,
              "#0d0887"
             ],
             [
              0.1111111111111111,
              "#46039f"
             ],
             [
              0.2222222222222222,
              "#7201a8"
             ],
             [
              0.3333333333333333,
              "#9c179e"
             ],
             [
              0.4444444444444444,
              "#bd3786"
             ],
             [
              0.5555555555555556,
              "#d8576b"
             ],
             [
              0.6666666666666666,
              "#ed7953"
             ],
             [
              0.7777777777777778,
              "#fb9f3a"
             ],
             [
              0.8888888888888888,
              "#fdca26"
             ],
             [
              1,
              "#f0f921"
             ]
            ],
            "type": "surface"
           }
          ],
          "table": [
           {
            "cells": {
             "fill": {
              "color": "#EBF0F8"
             },
             "line": {
              "color": "white"
             }
            },
            "header": {
             "fill": {
              "color": "#C8D4E3"
             },
             "line": {
              "color": "white"
             }
            },
            "type": "table"
           }
          ]
         },
         "layout": {
          "annotationdefaults": {
           "arrowcolor": "#2a3f5f",
           "arrowhead": 0,
           "arrowwidth": 1
          },
          "autotypenumbers": "strict",
          "coloraxis": {
           "colorbar": {
            "outlinewidth": 0,
            "ticks": ""
           }
          },
          "colorscale": {
           "diverging": [
            [
             0,
             "#8e0152"
            ],
            [
             0.1,
             "#c51b7d"
            ],
            [
             0.2,
             "#de77ae"
            ],
            [
             0.3,
             "#f1b6da"
            ],
            [
             0.4,
             "#fde0ef"
            ],
            [
             0.5,
             "#f7f7f7"
            ],
            [
             0.6,
             "#e6f5d0"
            ],
            [
             0.7,
             "#b8e186"
            ],
            [
             0.8,
             "#7fbc41"
            ],
            [
             0.9,
             "#4d9221"
            ],
            [
             1,
             "#276419"
            ]
           ],
           "sequential": [
            [
             0,
             "#0d0887"
            ],
            [
             0.1111111111111111,
             "#46039f"
            ],
            [
             0.2222222222222222,
             "#7201a8"
            ],
            [
             0.3333333333333333,
             "#9c179e"
            ],
            [
             0.4444444444444444,
             "#bd3786"
            ],
            [
             0.5555555555555556,
             "#d8576b"
            ],
            [
             0.6666666666666666,
             "#ed7953"
            ],
            [
             0.7777777777777778,
             "#fb9f3a"
            ],
            [
             0.8888888888888888,
             "#fdca26"
            ],
            [
             1,
             "#f0f921"
            ]
           ],
           "sequentialminus": [
            [
             0,
             "#0d0887"
            ],
            [
             0.1111111111111111,
             "#46039f"
            ],
            [
             0.2222222222222222,
             "#7201a8"
            ],
            [
             0.3333333333333333,
             "#9c179e"
            ],
            [
             0.4444444444444444,
             "#bd3786"
            ],
            [
             0.5555555555555556,
             "#d8576b"
            ],
            [
             0.6666666666666666,
             "#ed7953"
            ],
            [
             0.7777777777777778,
             "#fb9f3a"
            ],
            [
             0.8888888888888888,
             "#fdca26"
            ],
            [
             1,
             "#f0f921"
            ]
           ]
          },
          "colorway": [
           "#636efa",
           "#EF553B",
           "#00cc96",
           "#ab63fa",
           "#FFA15A",
           "#19d3f3",
           "#FF6692",
           "#B6E880",
           "#FF97FF",
           "#FECB52"
          ],
          "font": {
           "color": "#2a3f5f"
          },
          "geo": {
           "bgcolor": "white",
           "lakecolor": "white",
           "landcolor": "#E5ECF6",
           "showlakes": true,
           "showland": true,
           "subunitcolor": "white"
          },
          "hoverlabel": {
           "align": "left"
          },
          "hovermode": "closest",
          "mapbox": {
           "style": "light"
          },
          "paper_bgcolor": "white",
          "plot_bgcolor": "#E5ECF6",
          "polar": {
           "angularaxis": {
            "gridcolor": "white",
            "linecolor": "white",
            "ticks": ""
           },
           "bgcolor": "#E5ECF6",
           "radialaxis": {
            "gridcolor": "white",
            "linecolor": "white",
            "ticks": ""
           }
          },
          "scene": {
           "xaxis": {
            "backgroundcolor": "#E5ECF6",
            "gridcolor": "white",
            "gridwidth": 2,
            "linecolor": "white",
            "showbackground": true,
            "ticks": "",
            "zerolinecolor": "white"
           },
           "yaxis": {
            "backgroundcolor": "#E5ECF6",
            "gridcolor": "white",
            "gridwidth": 2,
            "linecolor": "white",
            "showbackground": true,
            "ticks": "",
            "zerolinecolor": "white"
           },
           "zaxis": {
            "backgroundcolor": "#E5ECF6",
            "gridcolor": "white",
            "gridwidth": 2,
            "linecolor": "white",
            "showbackground": true,
            "ticks": "",
            "zerolinecolor": "white"
           }
          },
          "shapedefaults": {
           "line": {
            "color": "#2a3f5f"
           }
          },
          "ternary": {
           "aaxis": {
            "gridcolor": "white",
            "linecolor": "white",
            "ticks": ""
           },
           "baxis": {
            "gridcolor": "white",
            "linecolor": "white",
            "ticks": ""
           },
           "bgcolor": "#E5ECF6",
           "caxis": {
            "gridcolor": "white",
            "linecolor": "white",
            "ticks": ""
           }
          },
          "title": {
           "x": 0.05
          },
          "xaxis": {
           "automargin": true,
           "gridcolor": "white",
           "linecolor": "white",
           "ticks": "",
           "title": {
            "standoff": 15
           },
           "zerolinecolor": "white",
           "zerolinewidth": 2
          },
          "yaxis": {
           "automargin": true,
           "gridcolor": "white",
           "linecolor": "white",
           "ticks": "",
           "title": {
            "standoff": 15
           },
           "zerolinecolor": "white",
           "zerolinewidth": 2
          }
         }
        },
        "title": {
         "text": "Top 10 Movie Votes and Title Year Sorted by Rating"
        },
        "xaxis": {
         "anchor": "y",
         "domain": [
          0,
          1
         ],
         "title": {
          "text": "Movie Title and Year"
         }
        },
        "yaxis": {
         "anchor": "x",
         "categoryorder": "total ascending",
         "domain": [
          0,
          1
         ],
         "title": {
          "text": "Votes"
         }
        }
       }
      }
     },
     "metadata": {},
     "output_type": "display_data"
    }
   ],
   "source": [
    "figIn1990 = px.bar(Movie1990,\n",
    "              y = 'Rating',\n",
    "              x = 'Title_Year',\n",
    "              orientation='v',\n",
    "              title='Top 10 Highest Movie Rating in 1990',\n",
    "              color='Rating',\n",
    "              color_continuous_scale='Greens'\n",
    "              )\n",
    "figin1990Votes = px.bar(Movie1990,\n",
    "              y = 'Votes',\n",
    "              x = 'Title_Year',\n",
    "              orientation='v',\n",
    "              title='Top 10 Movie Votes and Title Year Sorted by Rating',\n",
    "              labels={'Title_Year': 'Movie Title and Year', 'Votes': 'Votes'},\n",
    "              color='Rating',\n",
    "              color_continuous_scale='Viridis'\n",
    "              )\n",
    "\n",
    "# dfconcat = pd.concat(())\n",
    "figIn1990.update_layout(yaxis={'categoryorder':'total ascending'})\n",
    "figin1990Votes.update_layout(yaxis={'categoryorder':'total ascending'})\n",
    "figIn1990.show()\n",
    "figin1990Votes.show()"
   ]
  },
  {
   "cell_type": "markdown",
   "metadata": {},
   "source": [
    "Dapat diketahui bahwa film dengan rating tertinggi pada tahun 1990 yang terdapat pada dataset berjudul <br><b><i>Rear Window</i></b> dengan rating ```8.5```. Film dengan rating tinggi belum tentu banyak peminatnya, maka dari itu saya menampilkan nilai votes dari film yang telah disort berdasarkan rating tertinggi pada tahun 1990, dan diketahui bahwa film dengan rating tertinggi memiliki votes sebanyak 523k yang mana kalah dengan film pada urutan kedua rating yang berjumlah 1.2M Votes."
   ]
  },
  {
   "cell_type": "markdown",
   "metadata": {},
   "source": [
    "### 3. Seberapa berpengaruhnya Director terhadap rating rata-rata suatu film?"
   ]
  },
  {
   "cell_type": "code",
   "execution_count": 24,
   "metadata": {},
   "outputs": [
    {
     "name": "stdout",
     "output_type": "stream",
     "text": [
      "                   Director  Average Rating\n",
      "0              A.J. Edwards             4.8\n",
      "1           A.R. Murugadoss             7.3\n",
      "2             A.V. Rockwell             7.0\n",
      "3                Aamir Khan             8.3\n",
      "4              Aaron Blaise             6.9\n",
      "...                     ...             ...\n",
      "4352           Álex Montoya             7.7\n",
      "4353     Álex de la Iglesia             6.2\n",
      "4354  Ángel Gómez Hernández             6.1\n",
      "4355            Éric Rohmer             7.3\n",
      "4356    Óskar Thór Axelsson             6.0\n",
      "\n",
      "[4357 rows x 2 columns]\n"
     ]
    }
   ],
   "source": [
    "# Mengelompokkan data berdasarkan sutradara dan menghitung rata-rata rating per sutradara\n",
    "director_group = df_clean.groupby('Director')['Rating'].mean().reset_index()\n",
    "\n",
    "# Mengganti nama kolom untuk kejelasan\n",
    "director_group.columns = ['Director', 'Average Rating']\n",
    "\n",
    "# Melihat hasil pengelompokan\n",
    "print(director_group)"
   ]
  },
  {
   "cell_type": "markdown",
   "metadata": {},
   "source": [
    "Hasil dari rata-rata rating setiap direktor."
   ]
  },
  {
   "cell_type": "code",
   "execution_count": 25,
   "metadata": {},
   "outputs": [
    {
     "name": "stdout",
     "output_type": "stream",
     "text": [
      "count    4357.000000\n",
      "mean        6.257841\n",
      "std         1.054891\n",
      "min         1.300000\n",
      "25%         5.700000\n",
      "50%         6.400000\n",
      "75%         7.000000\n",
      "max         9.700000\n",
      "Name: Average Rating, dtype: float64\n"
     ]
    }
   ],
   "source": [
    "# Melihat statistik deskriptif\n",
    "desc_stats = director_group['Average Rating'].describe()\n",
    "print(desc_stats)"
   ]
  },
  {
   "cell_type": "code",
   "execution_count": 26,
   "metadata": {},
   "outputs": [],
   "source": [
    "# Jika ingin melihat korelasi antara jumlah film yang disutradarai dengan rata-rata rating\n",
    "director_count = df_clean['Director'].value_counts().reset_index()\n",
    "director_count.columns = ['Director', 'Film Count']\n",
    "\n",
    "# Menggabungkan data rata-rata rating dengan jumlah film\n",
    "merged_data = pd.merge(director_group, director_count, on='Director')\n",
    "\n",
    "# Melihat data yang sudah digabungkan\n",
    "newMerged = merged_data.sort_values(by='Film Count',ascending=False).head(50)"
   ]
  },
  {
   "cell_type": "code",
   "execution_count": 27,
   "metadata": {},
   "outputs": [
    {
     "data": {
      "application/vnd.plotly.v1+json": {
       "config": {
        "plotlyServerURL": "https://plot.ly"
       },
       "data": [
        {
         "hovertemplate": "Number of Films Directed=%{x}<br>Average Rating=%{y}<br>Director=%{text}<extra></extra>",
         "legendgroup": "",
         "marker": {
          "color": "#636efa",
          "size": 12,
          "symbol": "circle"
         },
         "mode": "markers+text",
         "name": "",
         "orientation": "v",
         "showlegend": false,
         "text": [
          "Steven Spielberg",
          "Clint Eastwood",
          "Ridley Scott",
          "Steven Soderbergh",
          "Martin Scorsese",
          "Alfred Hitchcock",
          "Ron Howard",
          "Woody Allen",
          "Robert Zemeckis",
          "Tim Burton",
          "David Cronenberg",
          "Francis Ford Coppola",
          "Renny Harlin",
          "Brian De Palma",
          "Roman Polanski",
          "Robert Rodriguez",
          "John Carpenter",
          "Barry Levinson",
          "Tony Scott",
          "Oliver Stone",
          "Wes Craven",
          "Richard Donner",
          "Michael Bay",
          "Antoine Fuqua",
          "Walter Hill",
          "Joel Schumacher",
          "Guy Ritchie",
          "Richard Linklater",
          "John Ford",
          "Lasse Hallström",
          "Tinto Brass",
          "Peter Jackson",
          "Sam Raimi",
          "Howard Hawks",
          "Rob Reiner",
          "Mike Nichols",
          "Dennis Dugan",
          "Kevin Smith",
          "Kenneth Branagh",
          "Shawn Levy",
          "Garry Marshall",
          "John Landis",
          "M. Night Shyamalan",
          "George Miller",
          "Ivan Reitman",
          "Phillip Noyce",
          "John Huston",
          "Roland Emmerich",
          "Alan Parker",
          "Joe Dante"
         ],
         "type": "scatter",
         "x": [
          33,
          32,
          27,
          25,
          24,
          23,
          23,
          22,
          20,
          19,
          18,
          18,
          18,
          18,
          18,
          17,
          17,
          16,
          16,
          16,
          16,
          15,
          15,
          15,
          15,
          15,
          15,
          15,
          15,
          14,
          14,
          14,
          14,
          14,
          14,
          14,
          13,
          13,
          13,
          13,
          13,
          13,
          13,
          13,
          13,
          13,
          13,
          13,
          12,
          12
         ],
         "xaxis": "x",
         "y": [
          7.387878787878789,
          7.090625,
          7.014814814814815,
          6.608,
          7.625,
          7.678260869565217,
          6.9739130434782615,
          7.086363636363637,
          7.0200000000000005,
          7.005263157894737,
          6.705555555555556,
          7.061111111111111,
          5.627777777777777,
          6.777777777777778,
          7.138888888888889,
          5.788235294117648,
          6.652941176470588,
          6.575,
          6.79375,
          6.93125,
          6.1,
          6.913333333333333,
          6.426666666666667,
          6.66,
          6.413333333333333,
          6.413333333333333,
          6.993333333333334,
          7.266666666666667,
          7.466666666666667,
          6.935714285714285,
          5.307142857142857,
          7.621428571428572,
          6.942857142857143,
          7.535714285714286,
          7.035714285714286,
          6.978571428571429,
          5.6923076923076925,
          6.415384615384616,
          6.653846153846154,
          6.261538461538462,
          6.038461538461538,
          6.630769230769231,
          6.176923076923076,
          6.753846153846154,
          6.338461538461539,
          6.276923076923077,
          7.384615384615385,
          6.1692307692307695,
          7.141666666666667,
          6.4750000000000005
         ],
         "yaxis": "y"
        },
        {
         "hovertemplate": "<b>OLS trendline</b><br>Average Rating = 0.0390226 * Film Count + 6.08834<br>R<sup>2</sup>=0.124278<br><br>Number of Films Directed=%{x}<br>Average Rating=%{y} <b>(trend)</b><extra></extra>",
         "legendgroup": "",
         "marker": {
          "color": "#636efa",
          "size": 12,
          "symbol": "circle"
         },
         "mode": "lines",
         "name": "",
         "showlegend": false,
         "type": "scatter",
         "x": [
          12,
          12,
          13,
          13,
          13,
          13,
          13,
          13,
          13,
          13,
          13,
          13,
          13,
          13,
          14,
          14,
          14,
          14,
          14,
          14,
          14,
          15,
          15,
          15,
          15,
          15,
          15,
          15,
          15,
          16,
          16,
          16,
          16,
          17,
          17,
          18,
          18,
          18,
          18,
          18,
          19,
          20,
          22,
          23,
          23,
          24,
          25,
          27,
          32,
          33
         ],
         "xaxis": "x",
         "y": [
          6.556611284377432,
          6.556611284377432,
          6.59563390498544,
          6.59563390498544,
          6.59563390498544,
          6.59563390498544,
          6.59563390498544,
          6.59563390498544,
          6.59563390498544,
          6.59563390498544,
          6.59563390498544,
          6.59563390498544,
          6.59563390498544,
          6.59563390498544,
          6.634656525593447,
          6.634656525593447,
          6.634656525593447,
          6.634656525593447,
          6.634656525593447,
          6.634656525593447,
          6.634656525593447,
          6.673679146201454,
          6.673679146201454,
          6.673679146201454,
          6.673679146201454,
          6.673679146201454,
          6.673679146201454,
          6.673679146201454,
          6.673679146201454,
          6.712701766809461,
          6.712701766809461,
          6.712701766809461,
          6.712701766809461,
          6.751724387417468,
          6.751724387417468,
          6.790747008025476,
          6.790747008025476,
          6.790747008025476,
          6.790747008025476,
          6.790747008025476,
          6.829769628633483,
          6.868792249241491,
          6.946837490457505,
          6.985860111065512,
          6.985860111065512,
          7.02488273167352,
          7.063905352281527,
          7.141950593497541,
          7.3370636965375775,
          7.376086317145585
         ],
         "yaxis": "y"
        }
       ],
       "layout": {
        "legend": {
         "tracegroupgap": 0
        },
        "template": {
         "data": {
          "bar": [
           {
            "error_x": {
             "color": "#2a3f5f"
            },
            "error_y": {
             "color": "#2a3f5f"
            },
            "marker": {
             "line": {
              "color": "#E5ECF6",
              "width": 0.5
             },
             "pattern": {
              "fillmode": "overlay",
              "size": 10,
              "solidity": 0.2
             }
            },
            "type": "bar"
           }
          ],
          "barpolar": [
           {
            "marker": {
             "line": {
              "color": "#E5ECF6",
              "width": 0.5
             },
             "pattern": {
              "fillmode": "overlay",
              "size": 10,
              "solidity": 0.2
             }
            },
            "type": "barpolar"
           }
          ],
          "carpet": [
           {
            "aaxis": {
             "endlinecolor": "#2a3f5f",
             "gridcolor": "white",
             "linecolor": "white",
             "minorgridcolor": "white",
             "startlinecolor": "#2a3f5f"
            },
            "baxis": {
             "endlinecolor": "#2a3f5f",
             "gridcolor": "white",
             "linecolor": "white",
             "minorgridcolor": "white",
             "startlinecolor": "#2a3f5f"
            },
            "type": "carpet"
           }
          ],
          "choropleth": [
           {
            "colorbar": {
             "outlinewidth": 0,
             "ticks": ""
            },
            "type": "choropleth"
           }
          ],
          "contour": [
           {
            "colorbar": {
             "outlinewidth": 0,
             "ticks": ""
            },
            "colorscale": [
             [
              0,
              "#0d0887"
             ],
             [
              0.1111111111111111,
              "#46039f"
             ],
             [
              0.2222222222222222,
              "#7201a8"
             ],
             [
              0.3333333333333333,
              "#9c179e"
             ],
             [
              0.4444444444444444,
              "#bd3786"
             ],
             [
              0.5555555555555556,
              "#d8576b"
             ],
             [
              0.6666666666666666,
              "#ed7953"
             ],
             [
              0.7777777777777778,
              "#fb9f3a"
             ],
             [
              0.8888888888888888,
              "#fdca26"
             ],
             [
              1,
              "#f0f921"
             ]
            ],
            "type": "contour"
           }
          ],
          "contourcarpet": [
           {
            "colorbar": {
             "outlinewidth": 0,
             "ticks": ""
            },
            "type": "contourcarpet"
           }
          ],
          "heatmap": [
           {
            "colorbar": {
             "outlinewidth": 0,
             "ticks": ""
            },
            "colorscale": [
             [
              0,
              "#0d0887"
             ],
             [
              0.1111111111111111,
              "#46039f"
             ],
             [
              0.2222222222222222,
              "#7201a8"
             ],
             [
              0.3333333333333333,
              "#9c179e"
             ],
             [
              0.4444444444444444,
              "#bd3786"
             ],
             [
              0.5555555555555556,
              "#d8576b"
             ],
             [
              0.6666666666666666,
              "#ed7953"
             ],
             [
              0.7777777777777778,
              "#fb9f3a"
             ],
             [
              0.8888888888888888,
              "#fdca26"
             ],
             [
              1,
              "#f0f921"
             ]
            ],
            "type": "heatmap"
           }
          ],
          "heatmapgl": [
           {
            "colorbar": {
             "outlinewidth": 0,
             "ticks": ""
            },
            "colorscale": [
             [
              0,
              "#0d0887"
             ],
             [
              0.1111111111111111,
              "#46039f"
             ],
             [
              0.2222222222222222,
              "#7201a8"
             ],
             [
              0.3333333333333333,
              "#9c179e"
             ],
             [
              0.4444444444444444,
              "#bd3786"
             ],
             [
              0.5555555555555556,
              "#d8576b"
             ],
             [
              0.6666666666666666,
              "#ed7953"
             ],
             [
              0.7777777777777778,
              "#fb9f3a"
             ],
             [
              0.8888888888888888,
              "#fdca26"
             ],
             [
              1,
              "#f0f921"
             ]
            ],
            "type": "heatmapgl"
           }
          ],
          "histogram": [
           {
            "marker": {
             "pattern": {
              "fillmode": "overlay",
              "size": 10,
              "solidity": 0.2
             }
            },
            "type": "histogram"
           }
          ],
          "histogram2d": [
           {
            "colorbar": {
             "outlinewidth": 0,
             "ticks": ""
            },
            "colorscale": [
             [
              0,
              "#0d0887"
             ],
             [
              0.1111111111111111,
              "#46039f"
             ],
             [
              0.2222222222222222,
              "#7201a8"
             ],
             [
              0.3333333333333333,
              "#9c179e"
             ],
             [
              0.4444444444444444,
              "#bd3786"
             ],
             [
              0.5555555555555556,
              "#d8576b"
             ],
             [
              0.6666666666666666,
              "#ed7953"
             ],
             [
              0.7777777777777778,
              "#fb9f3a"
             ],
             [
              0.8888888888888888,
              "#fdca26"
             ],
             [
              1,
              "#f0f921"
             ]
            ],
            "type": "histogram2d"
           }
          ],
          "histogram2dcontour": [
           {
            "colorbar": {
             "outlinewidth": 0,
             "ticks": ""
            },
            "colorscale": [
             [
              0,
              "#0d0887"
             ],
             [
              0.1111111111111111,
              "#46039f"
             ],
             [
              0.2222222222222222,
              "#7201a8"
             ],
             [
              0.3333333333333333,
              "#9c179e"
             ],
             [
              0.4444444444444444,
              "#bd3786"
             ],
             [
              0.5555555555555556,
              "#d8576b"
             ],
             [
              0.6666666666666666,
              "#ed7953"
             ],
             [
              0.7777777777777778,
              "#fb9f3a"
             ],
             [
              0.8888888888888888,
              "#fdca26"
             ],
             [
              1,
              "#f0f921"
             ]
            ],
            "type": "histogram2dcontour"
           }
          ],
          "mesh3d": [
           {
            "colorbar": {
             "outlinewidth": 0,
             "ticks": ""
            },
            "type": "mesh3d"
           }
          ],
          "parcoords": [
           {
            "line": {
             "colorbar": {
              "outlinewidth": 0,
              "ticks": ""
             }
            },
            "type": "parcoords"
           }
          ],
          "pie": [
           {
            "automargin": true,
            "type": "pie"
           }
          ],
          "scatter": [
           {
            "fillpattern": {
             "fillmode": "overlay",
             "size": 10,
             "solidity": 0.2
            },
            "type": "scatter"
           }
          ],
          "scatter3d": [
           {
            "line": {
             "colorbar": {
              "outlinewidth": 0,
              "ticks": ""
             }
            },
            "marker": {
             "colorbar": {
              "outlinewidth": 0,
              "ticks": ""
             }
            },
            "type": "scatter3d"
           }
          ],
          "scattercarpet": [
           {
            "marker": {
             "colorbar": {
              "outlinewidth": 0,
              "ticks": ""
             }
            },
            "type": "scattercarpet"
           }
          ],
          "scattergeo": [
           {
            "marker": {
             "colorbar": {
              "outlinewidth": 0,
              "ticks": ""
             }
            },
            "type": "scattergeo"
           }
          ],
          "scattergl": [
           {
            "marker": {
             "colorbar": {
              "outlinewidth": 0,
              "ticks": ""
             }
            },
            "type": "scattergl"
           }
          ],
          "scattermapbox": [
           {
            "marker": {
             "colorbar": {
              "outlinewidth": 0,
              "ticks": ""
             }
            },
            "type": "scattermapbox"
           }
          ],
          "scatterpolar": [
           {
            "marker": {
             "colorbar": {
              "outlinewidth": 0,
              "ticks": ""
             }
            },
            "type": "scatterpolar"
           }
          ],
          "scatterpolargl": [
           {
            "marker": {
             "colorbar": {
              "outlinewidth": 0,
              "ticks": ""
             }
            },
            "type": "scatterpolargl"
           }
          ],
          "scatterternary": [
           {
            "marker": {
             "colorbar": {
              "outlinewidth": 0,
              "ticks": ""
             }
            },
            "type": "scatterternary"
           }
          ],
          "surface": [
           {
            "colorbar": {
             "outlinewidth": 0,
             "ticks": ""
            },
            "colorscale": [
             [
              0,
              "#0d0887"
             ],
             [
              0.1111111111111111,
              "#46039f"
             ],
             [
              0.2222222222222222,
              "#7201a8"
             ],
             [
              0.3333333333333333,
              "#9c179e"
             ],
             [
              0.4444444444444444,
              "#bd3786"
             ],
             [
              0.5555555555555556,
              "#d8576b"
             ],
             [
              0.6666666666666666,
              "#ed7953"
             ],
             [
              0.7777777777777778,
              "#fb9f3a"
             ],
             [
              0.8888888888888888,
              "#fdca26"
             ],
             [
              1,
              "#f0f921"
             ]
            ],
            "type": "surface"
           }
          ],
          "table": [
           {
            "cells": {
             "fill": {
              "color": "#EBF0F8"
             },
             "line": {
              "color": "white"
             }
            },
            "header": {
             "fill": {
              "color": "#C8D4E3"
             },
             "line": {
              "color": "white"
             }
            },
            "type": "table"
           }
          ]
         },
         "layout": {
          "annotationdefaults": {
           "arrowcolor": "#2a3f5f",
           "arrowhead": 0,
           "arrowwidth": 1
          },
          "autotypenumbers": "strict",
          "coloraxis": {
           "colorbar": {
            "outlinewidth": 0,
            "ticks": ""
           }
          },
          "colorscale": {
           "diverging": [
            [
             0,
             "#8e0152"
            ],
            [
             0.1,
             "#c51b7d"
            ],
            [
             0.2,
             "#de77ae"
            ],
            [
             0.3,
             "#f1b6da"
            ],
            [
             0.4,
             "#fde0ef"
            ],
            [
             0.5,
             "#f7f7f7"
            ],
            [
             0.6,
             "#e6f5d0"
            ],
            [
             0.7,
             "#b8e186"
            ],
            [
             0.8,
             "#7fbc41"
            ],
            [
             0.9,
             "#4d9221"
            ],
            [
             1,
             "#276419"
            ]
           ],
           "sequential": [
            [
             0,
             "#0d0887"
            ],
            [
             0.1111111111111111,
             "#46039f"
            ],
            [
             0.2222222222222222,
             "#7201a8"
            ],
            [
             0.3333333333333333,
             "#9c179e"
            ],
            [
             0.4444444444444444,
             "#bd3786"
            ],
            [
             0.5555555555555556,
             "#d8576b"
            ],
            [
             0.6666666666666666,
             "#ed7953"
            ],
            [
             0.7777777777777778,
             "#fb9f3a"
            ],
            [
             0.8888888888888888,
             "#fdca26"
            ],
            [
             1,
             "#f0f921"
            ]
           ],
           "sequentialminus": [
            [
             0,
             "#0d0887"
            ],
            [
             0.1111111111111111,
             "#46039f"
            ],
            [
             0.2222222222222222,
             "#7201a8"
            ],
            [
             0.3333333333333333,
             "#9c179e"
            ],
            [
             0.4444444444444444,
             "#bd3786"
            ],
            [
             0.5555555555555556,
             "#d8576b"
            ],
            [
             0.6666666666666666,
             "#ed7953"
            ],
            [
             0.7777777777777778,
             "#fb9f3a"
            ],
            [
             0.8888888888888888,
             "#fdca26"
            ],
            [
             1,
             "#f0f921"
            ]
           ]
          },
          "colorway": [
           "#636efa",
           "#EF553B",
           "#00cc96",
           "#ab63fa",
           "#FFA15A",
           "#19d3f3",
           "#FF6692",
           "#B6E880",
           "#FF97FF",
           "#FECB52"
          ],
          "font": {
           "color": "#2a3f5f"
          },
          "geo": {
           "bgcolor": "white",
           "lakecolor": "white",
           "landcolor": "#E5ECF6",
           "showlakes": true,
           "showland": true,
           "subunitcolor": "white"
          },
          "hoverlabel": {
           "align": "left"
          },
          "hovermode": "closest",
          "mapbox": {
           "style": "light"
          },
          "paper_bgcolor": "white",
          "plot_bgcolor": "#E5ECF6",
          "polar": {
           "angularaxis": {
            "gridcolor": "white",
            "linecolor": "white",
            "ticks": ""
           },
           "bgcolor": "#E5ECF6",
           "radialaxis": {
            "gridcolor": "white",
            "linecolor": "white",
            "ticks": ""
           }
          },
          "scene": {
           "xaxis": {
            "backgroundcolor": "#E5ECF6",
            "gridcolor": "white",
            "gridwidth": 2,
            "linecolor": "white",
            "showbackground": true,
            "ticks": "",
            "zerolinecolor": "white"
           },
           "yaxis": {
            "backgroundcolor": "#E5ECF6",
            "gridcolor": "white",
            "gridwidth": 2,
            "linecolor": "white",
            "showbackground": true,
            "ticks": "",
            "zerolinecolor": "white"
           },
           "zaxis": {
            "backgroundcolor": "#E5ECF6",
            "gridcolor": "white",
            "gridwidth": 2,
            "linecolor": "white",
            "showbackground": true,
            "ticks": "",
            "zerolinecolor": "white"
           }
          },
          "shapedefaults": {
           "line": {
            "color": "#2a3f5f"
           }
          },
          "ternary": {
           "aaxis": {
            "gridcolor": "white",
            "linecolor": "white",
            "ticks": ""
           },
           "baxis": {
            "gridcolor": "white",
            "linecolor": "white",
            "ticks": ""
           },
           "bgcolor": "#E5ECF6",
           "caxis": {
            "gridcolor": "white",
            "linecolor": "white",
            "ticks": ""
           }
          },
          "title": {
           "x": 0.05
          },
          "xaxis": {
           "automargin": true,
           "gridcolor": "white",
           "linecolor": "white",
           "ticks": "",
           "title": {
            "standoff": 15
           },
           "zerolinecolor": "white",
           "zerolinewidth": 2
          },
          "yaxis": {
           "automargin": true,
           "gridcolor": "white",
           "linecolor": "white",
           "ticks": "",
           "title": {
            "standoff": 15
           },
           "zerolinecolor": "white",
           "zerolinewidth": 2
          }
         }
        },
        "title": {
         "font": {
          "size": 24
         },
         "text": "Correlation between Number of Films Directed and Average Rating",
         "x": 0.5
        },
        "xaxis": {
         "anchor": "y",
         "domain": [
          0,
          1
         ],
         "title": {
          "text": "Number of Films Directed"
         }
        },
        "yaxis": {
         "anchor": "x",
         "domain": [
          0,
          1
         ],
         "title": {
          "text": "Average Rating"
         }
        }
       }
      }
     },
     "metadata": {},
     "output_type": "display_data"
    }
   ],
   "source": [
    "# Buat grafik correlation\n",
    "figCorr = px.scatter(newMerged, x='Film Count', y='Average Rating', \n",
    "                 text='Director', \n",
    "                 title='Correlation between Number of Films Directed and Average Rating',\n",
    "                 labels={'Film Count': 'Number of Films Directed', 'Average Rating': 'Average Rating'},\n",
    "                 trendline='ols')\n",
    "\n",
    "figCorr.update_traces(marker=dict(size=12))\n",
    "figCorr.update_layout(title_font_size=24, title_x=0.5)\n",
    "\n",
    "figCorr.show()"
   ]
  },
  {
   "cell_type": "markdown",
   "metadata": {},
   "source": [
    "Berdasarkan grafik diatas dapat dilihat bahwa terdapat <i>trend line</i> yang bergerak naik ke atas dari average rating berdasarkan film yang dibuat, yang berarti bahwa direktor yang memiliki lebih banyak film yang disutradarai cenderung memiliki nilai rating rata-rata yang sedikit lebih tinggi.\n",
    "\n",
    "Namun begitu, data point tersebar disekitar <i>trend line</i> yang berarti memiliki korelasi yang lemah."
   ]
  },
  {
   "cell_type": "markdown",
   "metadata": {},
   "source": [
    "Selanjutnya test akan dilakukan menggunakan chi-squared test antara Director dengan Rating Category.\n",
    "\n",
    "H0: Tidak ada korelasi antara Director dengan Rating Category<br>\n",
    "H1: Ada korelasi antara director dengan Rating Category."
   ]
  },
  {
   "cell_type": "code",
   "execution_count": 28,
   "metadata": {},
   "outputs": [],
   "source": [
    "# Definisikan rating kategori\n",
    "ratingNew = []\n",
    "for i in df_clean['Rating']:\n",
    "  if 1 <= i < 3:\n",
    "    ratingNew.append('Terrible')\n",
    "  elif 3 < i <6:\n",
    "    ratingNew.append('Bad')\n",
    "  elif 6 < i < 7:\n",
    "    ratingNew.append('Average')\n",
    "  elif 7 < i < 9:\n",
    "    ratingNew.append('Good')\n",
    "  else:\n",
    "    ratingNew.append('Outstanding')"
   ]
  },
  {
   "cell_type": "code",
   "execution_count": 29,
   "metadata": {},
   "outputs": [],
   "source": [
    "# Masukan hasil kategori ke kolom baru\n",
    "df_clean['Rating Category'] = ratingNew"
   ]
  },
  {
   "cell_type": "code",
   "execution_count": 30,
   "metadata": {},
   "outputs": [],
   "source": [
    "# Buat variable untuk menghitung contingency table\n",
    "ins = df_clean.copy()"
   ]
  },
  {
   "cell_type": "code",
   "execution_count": 32,
   "metadata": {},
   "outputs": [
    {
     "data": {
      "text/html": [
       "<div>\n",
       "<style scoped>\n",
       "    .dataframe tbody tr th:only-of-type {\n",
       "        vertical-align: middle;\n",
       "    }\n",
       "\n",
       "    .dataframe tbody tr th {\n",
       "        vertical-align: top;\n",
       "    }\n",
       "\n",
       "    .dataframe thead th {\n",
       "        text-align: right;\n",
       "    }\n",
       "</style>\n",
       "<table border=\"1\" class=\"dataframe\">\n",
       "  <thead>\n",
       "    <tr style=\"text-align: right;\">\n",
       "      <th>Rating Category</th>\n",
       "      <th>Average</th>\n",
       "      <th>Bad</th>\n",
       "      <th>Good</th>\n",
       "      <th>Outstanding</th>\n",
       "      <th>Terrible</th>\n",
       "    </tr>\n",
       "    <tr>\n",
       "      <th>Director</th>\n",
       "      <th></th>\n",
       "      <th></th>\n",
       "      <th></th>\n",
       "      <th></th>\n",
       "      <th></th>\n",
       "    </tr>\n",
       "  </thead>\n",
       "  <tbody>\n",
       "    <tr>\n",
       "      <th>A.J. Edwards</th>\n",
       "      <td>0</td>\n",
       "      <td>1</td>\n",
       "      <td>0</td>\n",
       "      <td>0</td>\n",
       "      <td>0</td>\n",
       "    </tr>\n",
       "    <tr>\n",
       "      <th>A.R. Murugadoss</th>\n",
       "      <td>0</td>\n",
       "      <td>0</td>\n",
       "      <td>1</td>\n",
       "      <td>0</td>\n",
       "      <td>0</td>\n",
       "    </tr>\n",
       "    <tr>\n",
       "      <th>A.V. Rockwell</th>\n",
       "      <td>0</td>\n",
       "      <td>0</td>\n",
       "      <td>0</td>\n",
       "      <td>1</td>\n",
       "      <td>0</td>\n",
       "    </tr>\n",
       "    <tr>\n",
       "      <th>Aamir Khan</th>\n",
       "      <td>0</td>\n",
       "      <td>0</td>\n",
       "      <td>1</td>\n",
       "      <td>0</td>\n",
       "      <td>0</td>\n",
       "    </tr>\n",
       "    <tr>\n",
       "      <th>Aaron Blaise</th>\n",
       "      <td>1</td>\n",
       "      <td>0</td>\n",
       "      <td>0</td>\n",
       "      <td>0</td>\n",
       "      <td>0</td>\n",
       "    </tr>\n",
       "    <tr>\n",
       "      <th>...</th>\n",
       "      <td>...</td>\n",
       "      <td>...</td>\n",
       "      <td>...</td>\n",
       "      <td>...</td>\n",
       "      <td>...</td>\n",
       "    </tr>\n",
       "    <tr>\n",
       "      <th>Álex Montoya</th>\n",
       "      <td>0</td>\n",
       "      <td>0</td>\n",
       "      <td>1</td>\n",
       "      <td>0</td>\n",
       "      <td>0</td>\n",
       "    </tr>\n",
       "    <tr>\n",
       "      <th>Álex de la Iglesia</th>\n",
       "      <td>2</td>\n",
       "      <td>0</td>\n",
       "      <td>0</td>\n",
       "      <td>0</td>\n",
       "      <td>0</td>\n",
       "    </tr>\n",
       "    <tr>\n",
       "      <th>Ángel Gómez Hernández</th>\n",
       "      <td>1</td>\n",
       "      <td>0</td>\n",
       "      <td>0</td>\n",
       "      <td>0</td>\n",
       "      <td>0</td>\n",
       "    </tr>\n",
       "    <tr>\n",
       "      <th>Éric Rohmer</th>\n",
       "      <td>0</td>\n",
       "      <td>0</td>\n",
       "      <td>1</td>\n",
       "      <td>0</td>\n",
       "      <td>0</td>\n",
       "    </tr>\n",
       "    <tr>\n",
       "      <th>Óskar Thór Axelsson</th>\n",
       "      <td>0</td>\n",
       "      <td>0</td>\n",
       "      <td>0</td>\n",
       "      <td>1</td>\n",
       "      <td>0</td>\n",
       "    </tr>\n",
       "  </tbody>\n",
       "</table>\n",
       "<p>4357 rows × 5 columns</p>\n",
       "</div>"
      ],
      "text/plain": [
       "Rating Category        Average  Bad  Good  Outstanding  Terrible\n",
       "Director                                                        \n",
       "A.J. Edwards                 0    1     0            0         0\n",
       "A.R. Murugadoss              0    0     1            0         0\n",
       "A.V. Rockwell                0    0     0            1         0\n",
       "Aamir Khan                   0    0     1            0         0\n",
       "Aaron Blaise                 1    0     0            0         0\n",
       "...                        ...  ...   ...          ...       ...\n",
       "Álex Montoya                 0    0     1            0         0\n",
       "Álex de la Iglesia           2    0     0            0         0\n",
       "Ángel Gómez Hernández        1    0     0            0         0\n",
       "Éric Rohmer                  0    0     1            0         0\n",
       "Óskar Thór Axelsson          0    0     0            1         0\n",
       "\n",
       "[4357 rows x 5 columns]"
      ]
     },
     "execution_count": 32,
     "metadata": {},
     "output_type": "execute_result"
    }
   ],
   "source": [
    "#Contingency Table\n",
    "contingency_table = pd.crosstab(ins['Director'],ins['Rating Category'])\n",
    "contingency_table"
   ]
  },
  {
   "cell_type": "code",
   "execution_count": 33,
   "metadata": {},
   "outputs": [
    {
     "name": "stdout",
     "output_type": "stream",
     "text": [
      "P-value: 8.487299934050422e-148\n"
     ]
    },
    {
     "data": {
      "text/plain": [
       "Chi2ContingencyResult(statistic=22707.284917385732, pvalue=8.487299934050422e-148, dof=17424, expected_freq=array([[0.35469859, 0.27577074, 0.29907829, 0.06557898, 0.0048734 ],\n",
       "       [0.35469859, 0.27577074, 0.29907829, 0.06557898, 0.0048734 ],\n",
       "       [0.35469859, 0.27577074, 0.29907829, 0.06557898, 0.0048734 ],\n",
       "       ...,\n",
       "       [0.35469859, 0.27577074, 0.29907829, 0.06557898, 0.0048734 ],\n",
       "       [0.35469859, 0.27577074, 0.29907829, 0.06557898, 0.0048734 ],\n",
       "       [0.35469859, 0.27577074, 0.29907829, 0.06557898, 0.0048734 ]]))"
      ]
     },
     "execution_count": 33,
     "metadata": {},
     "output_type": "execute_result"
    }
   ],
   "source": [
    "# Hitung p_value dan chi-stat\n",
    "from scipy.stats import chi2_contingency\n",
    "res = stats.chi2_contingency(contingency_table)\n",
    "chi2 = chi2_contingency(contingency_table)\n",
    "print(\"P-value:\",res.pvalue)\n",
    "res"
   ]
  },
  {
   "cell_type": "markdown",
   "metadata": {},
   "source": [
    "Dari data menghasilkan p-value sebesar 8.487299934050422e-148 yang artinya ada 148 0 di belakang koma sebelum angka 8 atau dengan kata lain p-value yang didapatkan lebih kecil dari 0.05. Maka H0 ditolak yang artinya ada korelasi diantara director dan review category."
   ]
  },
  {
   "cell_type": "markdown",
   "metadata": {},
   "source": [
    "### 4. Genre apa yang paling banyak dibuat oleh 10 direktor teratas berdasarkan jumlah film yang dibuat?"
   ]
  },
  {
   "cell_type": "code",
   "execution_count": 34,
   "metadata": {},
   "outputs": [],
   "source": [
    "# Load data dengan metode copy dari data yang sudah bersih\n",
    "df_genreDirector = df_clean.copy()"
   ]
  },
  {
   "cell_type": "code",
   "execution_count": 35,
   "metadata": {},
   "outputs": [],
   "source": [
    "# Buat kolom baru yang berisi list genre \n",
    "df_genreDirector = df_genreDirector.assign(Genres=df_genreDirector['Genre'].str.split(','))\n",
    "\n",
    "# Explode kolom genre ke baris terpisah\n",
    "df_genreDirector = df_genreDirector.explode('Genre').reset_index(drop=True)"
   ]
  },
  {
   "cell_type": "code",
   "execution_count": 36,
   "metadata": {},
   "outputs": [
    {
     "data": {
      "text/html": [
       "<div>\n",
       "<style scoped>\n",
       "    .dataframe tbody tr th:only-of-type {\n",
       "        vertical-align: middle;\n",
       "    }\n",
       "\n",
       "    .dataframe tbody tr th {\n",
       "        vertical-align: top;\n",
       "    }\n",
       "\n",
       "    .dataframe thead th {\n",
       "        text-align: right;\n",
       "    }\n",
       "</style>\n",
       "<table border=\"1\" class=\"dataframe\">\n",
       "  <thead>\n",
       "    <tr style=\"text-align: right;\">\n",
       "      <th></th>\n",
       "      <th>Director</th>\n",
       "      <th>Genres</th>\n",
       "    </tr>\n",
       "  </thead>\n",
       "  <tbody>\n",
       "    <tr>\n",
       "      <th>0</th>\n",
       "      <td>Michael Showalter</td>\n",
       "      <td>Comedy</td>\n",
       "    </tr>\n",
       "    <tr>\n",
       "      <th>0</th>\n",
       "      <td>Michael Showalter</td>\n",
       "      <td>Drama</td>\n",
       "    </tr>\n",
       "    <tr>\n",
       "      <th>0</th>\n",
       "      <td>Michael Showalter</td>\n",
       "      <td>Romance</td>\n",
       "    </tr>\n",
       "    <tr>\n",
       "      <th>1</th>\n",
       "      <td>Wes Ball</td>\n",
       "      <td>Action</td>\n",
       "    </tr>\n",
       "    <tr>\n",
       "      <th>1</th>\n",
       "      <td>Wes Ball</td>\n",
       "      <td>Adventure</td>\n",
       "    </tr>\n",
       "    <tr>\n",
       "      <th>...</th>\n",
       "      <td>...</td>\n",
       "      <td>...</td>\n",
       "    </tr>\n",
       "    <tr>\n",
       "      <th>9437</th>\n",
       "      <td>Fernando León de Aranoa</td>\n",
       "      <td>Biography</td>\n",
       "    </tr>\n",
       "    <tr>\n",
       "      <th>9437</th>\n",
       "      <td>Fernando León de Aranoa</td>\n",
       "      <td>Crime</td>\n",
       "    </tr>\n",
       "    <tr>\n",
       "      <th>9437</th>\n",
       "      <td>Fernando León de Aranoa</td>\n",
       "      <td>Drama</td>\n",
       "    </tr>\n",
       "    <tr>\n",
       "      <th>9438</th>\n",
       "      <td>Claude Lelouch</td>\n",
       "      <td>Drama</td>\n",
       "    </tr>\n",
       "    <tr>\n",
       "      <th>9438</th>\n",
       "      <td>Claude Lelouch</td>\n",
       "      <td>Romance</td>\n",
       "    </tr>\n",
       "  </tbody>\n",
       "</table>\n",
       "<p>23852 rows × 2 columns</p>\n",
       "</div>"
      ],
      "text/plain": [
       "                     Director      Genres\n",
       "0           Michael Showalter      Comedy\n",
       "0           Michael Showalter       Drama\n",
       "0           Michael Showalter     Romance\n",
       "1                    Wes Ball      Action\n",
       "1                    Wes Ball   Adventure\n",
       "...                       ...         ...\n",
       "9437  Fernando León de Aranoa   Biography\n",
       "9437  Fernando León de Aranoa       Crime\n",
       "9437  Fernando León de Aranoa       Drama\n",
       "9438           Claude Lelouch       Drama\n",
       "9438           Claude Lelouch     Romance\n",
       "\n",
       "[23852 rows x 2 columns]"
      ]
     },
     "execution_count": 36,
     "metadata": {},
     "output_type": "execute_result"
    }
   ],
   "source": [
    "# Buat lis dari hasil mapping oleh panjangnya suatu data yang terdapat pada kolom genres\n",
    "lens = list(map(len, df_genreDirector['Genres'].values))\n",
    "# Buat variable baru untuk menampung nama direktor dan tiap genrenya \n",
    "res = pd.DataFrame({'Director': np.repeat(\n",
    "    df_genreDirector['Director'], lens), 'Genres': np.concatenate(df_genreDirector['Genres'].values)})\n",
    " \n",
    "res"
   ]
  },
  {
   "cell_type": "markdown",
   "metadata": {},
   "source": [
    "Genre sudah dipisahkan dalam bentuk list yang disesuaikan dengan nama direktornya."
   ]
  },
  {
   "cell_type": "code",
   "execution_count": 37,
   "metadata": {},
   "outputs": [],
   "source": [
    "# Buang kemungkinan white strip pada baris dari kolom genres\n",
    "res['Genres'] = res['Genres'].str.strip()"
   ]
  },
  {
   "cell_type": "code",
   "execution_count": 38,
   "metadata": {},
   "outputs": [],
   "source": [
    "# Buat variable baru untuk menampung kolom Count yang sudah digroup berdasarkan director dan genre\n",
    "newRes = res.groupby(['Director', 'Genres']).size().reset_index(name='Count')"
   ]
  },
  {
   "cell_type": "code",
   "execution_count": 39,
   "metadata": {},
   "outputs": [],
   "source": [
    "# Sort dataframe newRes untuk selanjutnya ditampilkan dalam graph\n",
    "sortedNewRes = newRes.sort_values(by='Count',ascending=False)"
   ]
  },
  {
   "cell_type": "code",
   "execution_count": 40,
   "metadata": {},
   "outputs": [],
   "source": [
    "# Var ini akan mengambil direktor pertama yang muncul dari jumlah direktor yang akan ditampilkan\n",
    "uniqueDirectors = sortedNewRes.drop_duplicates(subset=['Director'], keep='first')"
   ]
  },
  {
   "cell_type": "code",
   "execution_count": 41,
   "metadata": {},
   "outputs": [],
   "source": [
    "# Menampilkan 10 direktor teratas\n",
    "ndDirector = uniqueDirectors.head(10)"
   ]
  },
  {
   "cell_type": "code",
   "execution_count": 42,
   "metadata": {},
   "outputs": [
    {
     "data": {
      "application/vnd.plotly.v1+json": {
       "config": {
        "plotlyServerURL": "https://plot.ly"
       },
       "data": [
        {
         "alignmentgroup": "True",
         "hovertemplate": "Genres=Drama<br>Director=%{x}<br>Count=%{y}<extra></extra>",
         "legendgroup": "Drama",
         "marker": {
          "color": "#636efa",
          "pattern": {
           "shape": ""
          }
         },
         "name": "Drama",
         "offsetgroup": "Drama",
         "orientation": "v",
         "showlegend": true,
         "textposition": "auto",
         "type": "bar",
         "x": [
          "Clint Eastwood",
          "Ridley Scott",
          "Martin Scorsese",
          "Steven Soderbergh",
          "Steven Spielberg",
          "Francis Ford Coppola",
          "Oliver Stone"
         ],
         "xaxis": "x",
         "y": [
          29,
          21,
          21,
          19,
          18,
          16,
          15
         ],
         "yaxis": "y"
        },
        {
         "alignmentgroup": "True",
         "hovertemplate": "Genres=Comedy<br>Director=%{x}<br>Count=%{y}<extra></extra>",
         "legendgroup": "Comedy",
         "marker": {
          "color": "#EF553B",
          "pattern": {
           "shape": ""
          }
         },
         "name": "Comedy",
         "offsetgroup": "Comedy",
         "orientation": "v",
         "showlegend": true,
         "textposition": "auto",
         "type": "bar",
         "x": [
          "Woody Allen"
         ],
         "xaxis": "x",
         "y": [
          20
         ],
         "yaxis": "y"
        },
        {
         "alignmentgroup": "True",
         "hovertemplate": "Genres=Action<br>Director=%{x}<br>Count=%{y}<extra></extra>",
         "legendgroup": "Action",
         "marker": {
          "color": "#00cc96",
          "pattern": {
           "shape": ""
          }
         },
         "name": "Action",
         "offsetgroup": "Action",
         "orientation": "v",
         "showlegend": true,
         "textposition": "auto",
         "type": "bar",
         "x": [
          "Robert Rodriguez",
          "Michael Bay"
         ],
         "xaxis": "x",
         "y": [
          16,
          15
         ],
         "yaxis": "y"
        }
       ],
       "layout": {
        "barmode": "relative",
        "legend": {
         "title": {
          "text": "Genres"
         },
         "tracegroupgap": 0
        },
        "template": {
         "data": {
          "bar": [
           {
            "error_x": {
             "color": "#2a3f5f"
            },
            "error_y": {
             "color": "#2a3f5f"
            },
            "marker": {
             "line": {
              "color": "#E5ECF6",
              "width": 0.5
             },
             "pattern": {
              "fillmode": "overlay",
              "size": 10,
              "solidity": 0.2
             }
            },
            "type": "bar"
           }
          ],
          "barpolar": [
           {
            "marker": {
             "line": {
              "color": "#E5ECF6",
              "width": 0.5
             },
             "pattern": {
              "fillmode": "overlay",
              "size": 10,
              "solidity": 0.2
             }
            },
            "type": "barpolar"
           }
          ],
          "carpet": [
           {
            "aaxis": {
             "endlinecolor": "#2a3f5f",
             "gridcolor": "white",
             "linecolor": "white",
             "minorgridcolor": "white",
             "startlinecolor": "#2a3f5f"
            },
            "baxis": {
             "endlinecolor": "#2a3f5f",
             "gridcolor": "white",
             "linecolor": "white",
             "minorgridcolor": "white",
             "startlinecolor": "#2a3f5f"
            },
            "type": "carpet"
           }
          ],
          "choropleth": [
           {
            "colorbar": {
             "outlinewidth": 0,
             "ticks": ""
            },
            "type": "choropleth"
           }
          ],
          "contour": [
           {
            "colorbar": {
             "outlinewidth": 0,
             "ticks": ""
            },
            "colorscale": [
             [
              0,
              "#0d0887"
             ],
             [
              0.1111111111111111,
              "#46039f"
             ],
             [
              0.2222222222222222,
              "#7201a8"
             ],
             [
              0.3333333333333333,
              "#9c179e"
             ],
             [
              0.4444444444444444,
              "#bd3786"
             ],
             [
              0.5555555555555556,
              "#d8576b"
             ],
             [
              0.6666666666666666,
              "#ed7953"
             ],
             [
              0.7777777777777778,
              "#fb9f3a"
             ],
             [
              0.8888888888888888,
              "#fdca26"
             ],
             [
              1,
              "#f0f921"
             ]
            ],
            "type": "contour"
           }
          ],
          "contourcarpet": [
           {
            "colorbar": {
             "outlinewidth": 0,
             "ticks": ""
            },
            "type": "contourcarpet"
           }
          ],
          "heatmap": [
           {
            "colorbar": {
             "outlinewidth": 0,
             "ticks": ""
            },
            "colorscale": [
             [
              0,
              "#0d0887"
             ],
             [
              0.1111111111111111,
              "#46039f"
             ],
             [
              0.2222222222222222,
              "#7201a8"
             ],
             [
              0.3333333333333333,
              "#9c179e"
             ],
             [
              0.4444444444444444,
              "#bd3786"
             ],
             [
              0.5555555555555556,
              "#d8576b"
             ],
             [
              0.6666666666666666,
              "#ed7953"
             ],
             [
              0.7777777777777778,
              "#fb9f3a"
             ],
             [
              0.8888888888888888,
              "#fdca26"
             ],
             [
              1,
              "#f0f921"
             ]
            ],
            "type": "heatmap"
           }
          ],
          "heatmapgl": [
           {
            "colorbar": {
             "outlinewidth": 0,
             "ticks": ""
            },
            "colorscale": [
             [
              0,
              "#0d0887"
             ],
             [
              0.1111111111111111,
              "#46039f"
             ],
             [
              0.2222222222222222,
              "#7201a8"
             ],
             [
              0.3333333333333333,
              "#9c179e"
             ],
             [
              0.4444444444444444,
              "#bd3786"
             ],
             [
              0.5555555555555556,
              "#d8576b"
             ],
             [
              0.6666666666666666,
              "#ed7953"
             ],
             [
              0.7777777777777778,
              "#fb9f3a"
             ],
             [
              0.8888888888888888,
              "#fdca26"
             ],
             [
              1,
              "#f0f921"
             ]
            ],
            "type": "heatmapgl"
           }
          ],
          "histogram": [
           {
            "marker": {
             "pattern": {
              "fillmode": "overlay",
              "size": 10,
              "solidity": 0.2
             }
            },
            "type": "histogram"
           }
          ],
          "histogram2d": [
           {
            "colorbar": {
             "outlinewidth": 0,
             "ticks": ""
            },
            "colorscale": [
             [
              0,
              "#0d0887"
             ],
             [
              0.1111111111111111,
              "#46039f"
             ],
             [
              0.2222222222222222,
              "#7201a8"
             ],
             [
              0.3333333333333333,
              "#9c179e"
             ],
             [
              0.4444444444444444,
              "#bd3786"
             ],
             [
              0.5555555555555556,
              "#d8576b"
             ],
             [
              0.6666666666666666,
              "#ed7953"
             ],
             [
              0.7777777777777778,
              "#fb9f3a"
             ],
             [
              0.8888888888888888,
              "#fdca26"
             ],
             [
              1,
              "#f0f921"
             ]
            ],
            "type": "histogram2d"
           }
          ],
          "histogram2dcontour": [
           {
            "colorbar": {
             "outlinewidth": 0,
             "ticks": ""
            },
            "colorscale": [
             [
              0,
              "#0d0887"
             ],
             [
              0.1111111111111111,
              "#46039f"
             ],
             [
              0.2222222222222222,
              "#7201a8"
             ],
             [
              0.3333333333333333,
              "#9c179e"
             ],
             [
              0.4444444444444444,
              "#bd3786"
             ],
             [
              0.5555555555555556,
              "#d8576b"
             ],
             [
              0.6666666666666666,
              "#ed7953"
             ],
             [
              0.7777777777777778,
              "#fb9f3a"
             ],
             [
              0.8888888888888888,
              "#fdca26"
             ],
             [
              1,
              "#f0f921"
             ]
            ],
            "type": "histogram2dcontour"
           }
          ],
          "mesh3d": [
           {
            "colorbar": {
             "outlinewidth": 0,
             "ticks": ""
            },
            "type": "mesh3d"
           }
          ],
          "parcoords": [
           {
            "line": {
             "colorbar": {
              "outlinewidth": 0,
              "ticks": ""
             }
            },
            "type": "parcoords"
           }
          ],
          "pie": [
           {
            "automargin": true,
            "type": "pie"
           }
          ],
          "scatter": [
           {
            "fillpattern": {
             "fillmode": "overlay",
             "size": 10,
             "solidity": 0.2
            },
            "type": "scatter"
           }
          ],
          "scatter3d": [
           {
            "line": {
             "colorbar": {
              "outlinewidth": 0,
              "ticks": ""
             }
            },
            "marker": {
             "colorbar": {
              "outlinewidth": 0,
              "ticks": ""
             }
            },
            "type": "scatter3d"
           }
          ],
          "scattercarpet": [
           {
            "marker": {
             "colorbar": {
              "outlinewidth": 0,
              "ticks": ""
             }
            },
            "type": "scattercarpet"
           }
          ],
          "scattergeo": [
           {
            "marker": {
             "colorbar": {
              "outlinewidth": 0,
              "ticks": ""
             }
            },
            "type": "scattergeo"
           }
          ],
          "scattergl": [
           {
            "marker": {
             "colorbar": {
              "outlinewidth": 0,
              "ticks": ""
             }
            },
            "type": "scattergl"
           }
          ],
          "scattermapbox": [
           {
            "marker": {
             "colorbar": {
              "outlinewidth": 0,
              "ticks": ""
             }
            },
            "type": "scattermapbox"
           }
          ],
          "scatterpolar": [
           {
            "marker": {
             "colorbar": {
              "outlinewidth": 0,
              "ticks": ""
             }
            },
            "type": "scatterpolar"
           }
          ],
          "scatterpolargl": [
           {
            "marker": {
             "colorbar": {
              "outlinewidth": 0,
              "ticks": ""
             }
            },
            "type": "scatterpolargl"
           }
          ],
          "scatterternary": [
           {
            "marker": {
             "colorbar": {
              "outlinewidth": 0,
              "ticks": ""
             }
            },
            "type": "scatterternary"
           }
          ],
          "surface": [
           {
            "colorbar": {
             "outlinewidth": 0,
             "ticks": ""
            },
            "colorscale": [
             [
              0,
              "#0d0887"
             ],
             [
              0.1111111111111111,
              "#46039f"
             ],
             [
              0.2222222222222222,
              "#7201a8"
             ],
             [
              0.3333333333333333,
              "#9c179e"
             ],
             [
              0.4444444444444444,
              "#bd3786"
             ],
             [
              0.5555555555555556,
              "#d8576b"
             ],
             [
              0.6666666666666666,
              "#ed7953"
             ],
             [
              0.7777777777777778,
              "#fb9f3a"
             ],
             [
              0.8888888888888888,
              "#fdca26"
             ],
             [
              1,
              "#f0f921"
             ]
            ],
            "type": "surface"
           }
          ],
          "table": [
           {
            "cells": {
             "fill": {
              "color": "#EBF0F8"
             },
             "line": {
              "color": "white"
             }
            },
            "header": {
             "fill": {
              "color": "#C8D4E3"
             },
             "line": {
              "color": "white"
             }
            },
            "type": "table"
           }
          ]
         },
         "layout": {
          "annotationdefaults": {
           "arrowcolor": "#2a3f5f",
           "arrowhead": 0,
           "arrowwidth": 1
          },
          "autotypenumbers": "strict",
          "coloraxis": {
           "colorbar": {
            "outlinewidth": 0,
            "ticks": ""
           }
          },
          "colorscale": {
           "diverging": [
            [
             0,
             "#8e0152"
            ],
            [
             0.1,
             "#c51b7d"
            ],
            [
             0.2,
             "#de77ae"
            ],
            [
             0.3,
             "#f1b6da"
            ],
            [
             0.4,
             "#fde0ef"
            ],
            [
             0.5,
             "#f7f7f7"
            ],
            [
             0.6,
             "#e6f5d0"
            ],
            [
             0.7,
             "#b8e186"
            ],
            [
             0.8,
             "#7fbc41"
            ],
            [
             0.9,
             "#4d9221"
            ],
            [
             1,
             "#276419"
            ]
           ],
           "sequential": [
            [
             0,
             "#0d0887"
            ],
            [
             0.1111111111111111,
             "#46039f"
            ],
            [
             0.2222222222222222,
             "#7201a8"
            ],
            [
             0.3333333333333333,
             "#9c179e"
            ],
            [
             0.4444444444444444,
             "#bd3786"
            ],
            [
             0.5555555555555556,
             "#d8576b"
            ],
            [
             0.6666666666666666,
             "#ed7953"
            ],
            [
             0.7777777777777778,
             "#fb9f3a"
            ],
            [
             0.8888888888888888,
             "#fdca26"
            ],
            [
             1,
             "#f0f921"
            ]
           ],
           "sequentialminus": [
            [
             0,
             "#0d0887"
            ],
            [
             0.1111111111111111,
             "#46039f"
            ],
            [
             0.2222222222222222,
             "#7201a8"
            ],
            [
             0.3333333333333333,
             "#9c179e"
            ],
            [
             0.4444444444444444,
             "#bd3786"
            ],
            [
             0.5555555555555556,
             "#d8576b"
            ],
            [
             0.6666666666666666,
             "#ed7953"
            ],
            [
             0.7777777777777778,
             "#fb9f3a"
            ],
            [
             0.8888888888888888,
             "#fdca26"
            ],
            [
             1,
             "#f0f921"
            ]
           ]
          },
          "colorway": [
           "#636efa",
           "#EF553B",
           "#00cc96",
           "#ab63fa",
           "#FFA15A",
           "#19d3f3",
           "#FF6692",
           "#B6E880",
           "#FF97FF",
           "#FECB52"
          ],
          "font": {
           "color": "#2a3f5f"
          },
          "geo": {
           "bgcolor": "white",
           "lakecolor": "white",
           "landcolor": "#E5ECF6",
           "showlakes": true,
           "showland": true,
           "subunitcolor": "white"
          },
          "hoverlabel": {
           "align": "left"
          },
          "hovermode": "closest",
          "mapbox": {
           "style": "light"
          },
          "paper_bgcolor": "white",
          "plot_bgcolor": "#E5ECF6",
          "polar": {
           "angularaxis": {
            "gridcolor": "white",
            "linecolor": "white",
            "ticks": ""
           },
           "bgcolor": "#E5ECF6",
           "radialaxis": {
            "gridcolor": "white",
            "linecolor": "white",
            "ticks": ""
           }
          },
          "scene": {
           "xaxis": {
            "backgroundcolor": "#E5ECF6",
            "gridcolor": "white",
            "gridwidth": 2,
            "linecolor": "white",
            "showbackground": true,
            "ticks": "",
            "zerolinecolor": "white"
           },
           "yaxis": {
            "backgroundcolor": "#E5ECF6",
            "gridcolor": "white",
            "gridwidth": 2,
            "linecolor": "white",
            "showbackground": true,
            "ticks": "",
            "zerolinecolor": "white"
           },
           "zaxis": {
            "backgroundcolor": "#E5ECF6",
            "gridcolor": "white",
            "gridwidth": 2,
            "linecolor": "white",
            "showbackground": true,
            "ticks": "",
            "zerolinecolor": "white"
           }
          },
          "shapedefaults": {
           "line": {
            "color": "#2a3f5f"
           }
          },
          "ternary": {
           "aaxis": {
            "gridcolor": "white",
            "linecolor": "white",
            "ticks": ""
           },
           "baxis": {
            "gridcolor": "white",
            "linecolor": "white",
            "ticks": ""
           },
           "bgcolor": "#E5ECF6",
           "caxis": {
            "gridcolor": "white",
            "linecolor": "white",
            "ticks": ""
           }
          },
          "title": {
           "x": 0.05
          },
          "xaxis": {
           "automargin": true,
           "gridcolor": "white",
           "linecolor": "white",
           "ticks": "",
           "title": {
            "standoff": 15
           },
           "zerolinecolor": "white",
           "zerolinewidth": 2
          },
          "yaxis": {
           "automargin": true,
           "gridcolor": "white",
           "linecolor": "white",
           "ticks": "",
           "title": {
            "standoff": 15
           },
           "zerolinecolor": "white",
           "zerolinewidth": 2
          }
         }
        },
        "title": {
         "text": "Top 10 Genre Count by Director"
        },
        "xaxis": {
         "anchor": "y",
         "domain": [
          0,
          1
         ],
         "title": {
          "text": "Director"
         }
        },
        "yaxis": {
         "anchor": "x",
         "domain": [
          0,
          1
         ],
         "title": {
          "text": "Count"
         }
        }
       }
      }
     },
     "metadata": {},
     "output_type": "display_data"
    }
   ],
   "source": [
    "# Buat variable grafik untuk ditampilkan\n",
    "directorBar = px.bar(ndDirector, x=\"Director\", y=\"Count\", color=\"Genres\", \n",
    "             title=\"Top 10 Genre Count by Director\",\n",
    "             labels={\"Count\": \"Count\", \"Director\": \"Director\"})\n",
    "\n",
    "# Munculkan grafik\n",
    "directorBar.show()"
   ]
  },
  {
   "cell_type": "markdown",
   "metadata": {},
   "source": [
    "Pengelompokan 10 direktor teratas berdasarkan banyaknya film yang dibuat oleh setiap direktor. Dalam setiap film yang dibuatnya terdapat 1 atau lebih dari 1 genre, sehingga dilakukan perhitungan genre terbanyak yang dibuat oleh setiap direktor.\n",
    "Hasil yang didapatkan:\n",
    "<ul>\n",
    "<li>Clint Eastwood - Drama - 29 Films</li>\n",
    "<li>Ridley Scott - Drama - 21 Films</li>\n",
    "<li>Martin Scorsese - Drama - 21 Films</li>\n",
    "<li>Steven Soderbergh - Drama - 19 Films</li>\n",
    "<li>Steven Spielberg - Drama - 18 Films</li>\n",
    "<li>Francis Ford Coppola - Drama - 16 Films</li>\n",
    "<li>Oliver Stone - Drama - 15 Films</li>\n",
    "<li>Woody Allen - Comedy - 20 Films</li>\n",
    "<li>Robert Rodriguez - Action - 16 Films</li>\n",
    "<li>Michael Bay - Action - 15 Films</li>\n",
    "</ul>"
   ]
  },
  {
   "cell_type": "markdown",
   "metadata": {},
   "source": [
    "### 5. Pada tahun berapa jumlah pembuatan film terbanyak?"
   ]
  },
  {
   "cell_type": "code",
   "execution_count": 43,
   "metadata": {},
   "outputs": [
    {
     "data": {
      "application/vnd.plotly.v1+json": {
       "config": {
        "plotlyServerURL": "https://plot.ly"
       },
       "data": [
        {
         "hovertemplate": "Year=%{x}<br>Movie Count=%{y}<extra></extra>",
         "legendgroup": "",
         "line": {
          "color": "#636efa",
          "dash": "solid"
         },
         "marker": {
          "symbol": "circle"
         },
         "mode": "lines",
         "name": "",
         "orientation": "v",
         "showlegend": false,
         "type": "scatter",
         "x": [
          2025,
          2024,
          2023,
          2022,
          2021,
          2020,
          2019,
          2018,
          2017,
          2016,
          2015,
          2014,
          2013,
          2012,
          2011,
          2010,
          2009,
          2008,
          2007,
          2006,
          2005,
          2004,
          2003,
          2002,
          2001,
          2000,
          1999,
          1998,
          1997,
          1996,
          1995,
          1994,
          1993,
          1992,
          1991,
          1990,
          1989,
          1988,
          1986,
          1985,
          1983,
          1981,
          1979,
          1977,
          1976,
          1973,
          1972,
          1971,
          1969,
          1968,
          1966,
          1965,
          1964,
          1961,
          1955,
          1954,
          1945,
          1934,
          1933,
          1929
         ],
         "xaxis": "x",
         "y": [
          144,
          624,
          810,
          335,
          486,
          336,
          239,
          194,
          287,
          287,
          241,
          336,
          195,
          243,
          143,
          92,
          147,
          145,
          246,
          289,
          192,
          142,
          99,
          282,
          146,
          48,
          188,
          92,
          192,
          195,
          235,
          98,
          93,
          94,
          45,
          49,
          146,
          47,
          49,
          143,
          46,
          94,
          49,
          45,
          46,
          48,
          48,
          49,
          49,
          49,
          47,
          100,
          49,
          44,
          44,
          46,
          49,
          50,
          46,
          47
         ],
         "yaxis": "y"
        }
       ],
       "layout": {
        "legend": {
         "tracegroupgap": 0
        },
        "template": {
         "data": {
          "bar": [
           {
            "error_x": {
             "color": "#2a3f5f"
            },
            "error_y": {
             "color": "#2a3f5f"
            },
            "marker": {
             "line": {
              "color": "#E5ECF6",
              "width": 0.5
             },
             "pattern": {
              "fillmode": "overlay",
              "size": 10,
              "solidity": 0.2
             }
            },
            "type": "bar"
           }
          ],
          "barpolar": [
           {
            "marker": {
             "line": {
              "color": "#E5ECF6",
              "width": 0.5
             },
             "pattern": {
              "fillmode": "overlay",
              "size": 10,
              "solidity": 0.2
             }
            },
            "type": "barpolar"
           }
          ],
          "carpet": [
           {
            "aaxis": {
             "endlinecolor": "#2a3f5f",
             "gridcolor": "white",
             "linecolor": "white",
             "minorgridcolor": "white",
             "startlinecolor": "#2a3f5f"
            },
            "baxis": {
             "endlinecolor": "#2a3f5f",
             "gridcolor": "white",
             "linecolor": "white",
             "minorgridcolor": "white",
             "startlinecolor": "#2a3f5f"
            },
            "type": "carpet"
           }
          ],
          "choropleth": [
           {
            "colorbar": {
             "outlinewidth": 0,
             "ticks": ""
            },
            "type": "choropleth"
           }
          ],
          "contour": [
           {
            "colorbar": {
             "outlinewidth": 0,
             "ticks": ""
            },
            "colorscale": [
             [
              0,
              "#0d0887"
             ],
             [
              0.1111111111111111,
              "#46039f"
             ],
             [
              0.2222222222222222,
              "#7201a8"
             ],
             [
              0.3333333333333333,
              "#9c179e"
             ],
             [
              0.4444444444444444,
              "#bd3786"
             ],
             [
              0.5555555555555556,
              "#d8576b"
             ],
             [
              0.6666666666666666,
              "#ed7953"
             ],
             [
              0.7777777777777778,
              "#fb9f3a"
             ],
             [
              0.8888888888888888,
              "#fdca26"
             ],
             [
              1,
              "#f0f921"
             ]
            ],
            "type": "contour"
           }
          ],
          "contourcarpet": [
           {
            "colorbar": {
             "outlinewidth": 0,
             "ticks": ""
            },
            "type": "contourcarpet"
           }
          ],
          "heatmap": [
           {
            "colorbar": {
             "outlinewidth": 0,
             "ticks": ""
            },
            "colorscale": [
             [
              0,
              "#0d0887"
             ],
             [
              0.1111111111111111,
              "#46039f"
             ],
             [
              0.2222222222222222,
              "#7201a8"
             ],
             [
              0.3333333333333333,
              "#9c179e"
             ],
             [
              0.4444444444444444,
              "#bd3786"
             ],
             [
              0.5555555555555556,
              "#d8576b"
             ],
             [
              0.6666666666666666,
              "#ed7953"
             ],
             [
              0.7777777777777778,
              "#fb9f3a"
             ],
             [
              0.8888888888888888,
              "#fdca26"
             ],
             [
              1,
              "#f0f921"
             ]
            ],
            "type": "heatmap"
           }
          ],
          "heatmapgl": [
           {
            "colorbar": {
             "outlinewidth": 0,
             "ticks": ""
            },
            "colorscale": [
             [
              0,
              "#0d0887"
             ],
             [
              0.1111111111111111,
              "#46039f"
             ],
             [
              0.2222222222222222,
              "#7201a8"
             ],
             [
              0.3333333333333333,
              "#9c179e"
             ],
             [
              0.4444444444444444,
              "#bd3786"
             ],
             [
              0.5555555555555556,
              "#d8576b"
             ],
             [
              0.6666666666666666,
              "#ed7953"
             ],
             [
              0.7777777777777778,
              "#fb9f3a"
             ],
             [
              0.8888888888888888,
              "#fdca26"
             ],
             [
              1,
              "#f0f921"
             ]
            ],
            "type": "heatmapgl"
           }
          ],
          "histogram": [
           {
            "marker": {
             "pattern": {
              "fillmode": "overlay",
              "size": 10,
              "solidity": 0.2
             }
            },
            "type": "histogram"
           }
          ],
          "histogram2d": [
           {
            "colorbar": {
             "outlinewidth": 0,
             "ticks": ""
            },
            "colorscale": [
             [
              0,
              "#0d0887"
             ],
             [
              0.1111111111111111,
              "#46039f"
             ],
             [
              0.2222222222222222,
              "#7201a8"
             ],
             [
              0.3333333333333333,
              "#9c179e"
             ],
             [
              0.4444444444444444,
              "#bd3786"
             ],
             [
              0.5555555555555556,
              "#d8576b"
             ],
             [
              0.6666666666666666,
              "#ed7953"
             ],
             [
              0.7777777777777778,
              "#fb9f3a"
             ],
             [
              0.8888888888888888,
              "#fdca26"
             ],
             [
              1,
              "#f0f921"
             ]
            ],
            "type": "histogram2d"
           }
          ],
          "histogram2dcontour": [
           {
            "colorbar": {
             "outlinewidth": 0,
             "ticks": ""
            },
            "colorscale": [
             [
              0,
              "#0d0887"
             ],
             [
              0.1111111111111111,
              "#46039f"
             ],
             [
              0.2222222222222222,
              "#7201a8"
             ],
             [
              0.3333333333333333,
              "#9c179e"
             ],
             [
              0.4444444444444444,
              "#bd3786"
             ],
             [
              0.5555555555555556,
              "#d8576b"
             ],
             [
              0.6666666666666666,
              "#ed7953"
             ],
             [
              0.7777777777777778,
              "#fb9f3a"
             ],
             [
              0.8888888888888888,
              "#fdca26"
             ],
             [
              1,
              "#f0f921"
             ]
            ],
            "type": "histogram2dcontour"
           }
          ],
          "mesh3d": [
           {
            "colorbar": {
             "outlinewidth": 0,
             "ticks": ""
            },
            "type": "mesh3d"
           }
          ],
          "parcoords": [
           {
            "line": {
             "colorbar": {
              "outlinewidth": 0,
              "ticks": ""
             }
            },
            "type": "parcoords"
           }
          ],
          "pie": [
           {
            "automargin": true,
            "type": "pie"
           }
          ],
          "scatter": [
           {
            "fillpattern": {
             "fillmode": "overlay",
             "size": 10,
             "solidity": 0.2
            },
            "type": "scatter"
           }
          ],
          "scatter3d": [
           {
            "line": {
             "colorbar": {
              "outlinewidth": 0,
              "ticks": ""
             }
            },
            "marker": {
             "colorbar": {
              "outlinewidth": 0,
              "ticks": ""
             }
            },
            "type": "scatter3d"
           }
          ],
          "scattercarpet": [
           {
            "marker": {
             "colorbar": {
              "outlinewidth": 0,
              "ticks": ""
             }
            },
            "type": "scattercarpet"
           }
          ],
          "scattergeo": [
           {
            "marker": {
             "colorbar": {
              "outlinewidth": 0,
              "ticks": ""
             }
            },
            "type": "scattergeo"
           }
          ],
          "scattergl": [
           {
            "marker": {
             "colorbar": {
              "outlinewidth": 0,
              "ticks": ""
             }
            },
            "type": "scattergl"
           }
          ],
          "scattermapbox": [
           {
            "marker": {
             "colorbar": {
              "outlinewidth": 0,
              "ticks": ""
             }
            },
            "type": "scattermapbox"
           }
          ],
          "scatterpolar": [
           {
            "marker": {
             "colorbar": {
              "outlinewidth": 0,
              "ticks": ""
             }
            },
            "type": "scatterpolar"
           }
          ],
          "scatterpolargl": [
           {
            "marker": {
             "colorbar": {
              "outlinewidth": 0,
              "ticks": ""
             }
            },
            "type": "scatterpolargl"
           }
          ],
          "scatterternary": [
           {
            "marker": {
             "colorbar": {
              "outlinewidth": 0,
              "ticks": ""
             }
            },
            "type": "scatterternary"
           }
          ],
          "surface": [
           {
            "colorbar": {
             "outlinewidth": 0,
             "ticks": ""
            },
            "colorscale": [
             [
              0,
              "#0d0887"
             ],
             [
              0.1111111111111111,
              "#46039f"
             ],
             [
              0.2222222222222222,
              "#7201a8"
             ],
             [
              0.3333333333333333,
              "#9c179e"
             ],
             [
              0.4444444444444444,
              "#bd3786"
             ],
             [
              0.5555555555555556,
              "#d8576b"
             ],
             [
              0.6666666666666666,
              "#ed7953"
             ],
             [
              0.7777777777777778,
              "#fb9f3a"
             ],
             [
              0.8888888888888888,
              "#fdca26"
             ],
             [
              1,
              "#f0f921"
             ]
            ],
            "type": "surface"
           }
          ],
          "table": [
           {
            "cells": {
             "fill": {
              "color": "#EBF0F8"
             },
             "line": {
              "color": "white"
             }
            },
            "header": {
             "fill": {
              "color": "#C8D4E3"
             },
             "line": {
              "color": "white"
             }
            },
            "type": "table"
           }
          ]
         },
         "layout": {
          "annotationdefaults": {
           "arrowcolor": "#2a3f5f",
           "arrowhead": 0,
           "arrowwidth": 1
          },
          "autotypenumbers": "strict",
          "coloraxis": {
           "colorbar": {
            "outlinewidth": 0,
            "ticks": ""
           }
          },
          "colorscale": {
           "diverging": [
            [
             0,
             "#8e0152"
            ],
            [
             0.1,
             "#c51b7d"
            ],
            [
             0.2,
             "#de77ae"
            ],
            [
             0.3,
             "#f1b6da"
            ],
            [
             0.4,
             "#fde0ef"
            ],
            [
             0.5,
             "#f7f7f7"
            ],
            [
             0.6,
             "#e6f5d0"
            ],
            [
             0.7,
             "#b8e186"
            ],
            [
             0.8,
             "#7fbc41"
            ],
            [
             0.9,
             "#4d9221"
            ],
            [
             1,
             "#276419"
            ]
           ],
           "sequential": [
            [
             0,
             "#0d0887"
            ],
            [
             0.1111111111111111,
             "#46039f"
            ],
            [
             0.2222222222222222,
             "#7201a8"
            ],
            [
             0.3333333333333333,
             "#9c179e"
            ],
            [
             0.4444444444444444,
             "#bd3786"
            ],
            [
             0.5555555555555556,
             "#d8576b"
            ],
            [
             0.6666666666666666,
             "#ed7953"
            ],
            [
             0.7777777777777778,
             "#fb9f3a"
            ],
            [
             0.8888888888888888,
             "#fdca26"
            ],
            [
             1,
             "#f0f921"
            ]
           ],
           "sequentialminus": [
            [
             0,
             "#0d0887"
            ],
            [
             0.1111111111111111,
             "#46039f"
            ],
            [
             0.2222222222222222,
             "#7201a8"
            ],
            [
             0.3333333333333333,
             "#9c179e"
            ],
            [
             0.4444444444444444,
             "#bd3786"
            ],
            [
             0.5555555555555556,
             "#d8576b"
            ],
            [
             0.6666666666666666,
             "#ed7953"
            ],
            [
             0.7777777777777778,
             "#fb9f3a"
            ],
            [
             0.8888888888888888,
             "#fdca26"
            ],
            [
             1,
             "#f0f921"
            ]
           ]
          },
          "colorway": [
           "#636efa",
           "#EF553B",
           "#00cc96",
           "#ab63fa",
           "#FFA15A",
           "#19d3f3",
           "#FF6692",
           "#B6E880",
           "#FF97FF",
           "#FECB52"
          ],
          "font": {
           "color": "#2a3f5f"
          },
          "geo": {
           "bgcolor": "white",
           "lakecolor": "white",
           "landcolor": "#E5ECF6",
           "showlakes": true,
           "showland": true,
           "subunitcolor": "white"
          },
          "hoverlabel": {
           "align": "left"
          },
          "hovermode": "closest",
          "mapbox": {
           "style": "light"
          },
          "paper_bgcolor": "white",
          "plot_bgcolor": "#E5ECF6",
          "polar": {
           "angularaxis": {
            "gridcolor": "white",
            "linecolor": "white",
            "ticks": ""
           },
           "bgcolor": "#E5ECF6",
           "radialaxis": {
            "gridcolor": "white",
            "linecolor": "white",
            "ticks": ""
           }
          },
          "scene": {
           "xaxis": {
            "backgroundcolor": "#E5ECF6",
            "gridcolor": "white",
            "gridwidth": 2,
            "linecolor": "white",
            "showbackground": true,
            "ticks": "",
            "zerolinecolor": "white"
           },
           "yaxis": {
            "backgroundcolor": "#E5ECF6",
            "gridcolor": "white",
            "gridwidth": 2,
            "linecolor": "white",
            "showbackground": true,
            "ticks": "",
            "zerolinecolor": "white"
           },
           "zaxis": {
            "backgroundcolor": "#E5ECF6",
            "gridcolor": "white",
            "gridwidth": 2,
            "linecolor": "white",
            "showbackground": true,
            "ticks": "",
            "zerolinecolor": "white"
           }
          },
          "shapedefaults": {
           "line": {
            "color": "#2a3f5f"
           }
          },
          "ternary": {
           "aaxis": {
            "gridcolor": "white",
            "linecolor": "white",
            "ticks": ""
           },
           "baxis": {
            "gridcolor": "white",
            "linecolor": "white",
            "ticks": ""
           },
           "bgcolor": "#E5ECF6",
           "caxis": {
            "gridcolor": "white",
            "linecolor": "white",
            "ticks": ""
           }
          },
          "title": {
           "x": 0.05
          },
          "xaxis": {
           "automargin": true,
           "gridcolor": "white",
           "linecolor": "white",
           "ticks": "",
           "title": {
            "standoff": 15
           },
           "zerolinecolor": "white",
           "zerolinewidth": 2
          },
          "yaxis": {
           "automargin": true,
           "gridcolor": "white",
           "linecolor": "white",
           "ticks": "",
           "title": {
            "standoff": 15
           },
           "zerolinecolor": "white",
           "zerolinewidth": 2
          }
         }
        },
        "title": {
         "text": "Total Movie each Year",
         "x": 0.5
        },
        "xaxis": {
         "anchor": "y",
         "domain": [
          0,
          1
         ],
         "title": {
          "text": "Year"
         }
        },
        "yaxis": {
         "anchor": "x",
         "domain": [
          0,
          1
         ],
         "title": {
          "text": "Count Movie by Year"
         }
        }
       }
      }
     },
     "metadata": {},
     "output_type": "display_data"
    }
   ],
   "source": [
    "# Buat variable group\n",
    "groupedMovieYearCount = df_clean.groupby('Year')['Year'].count().sort_index(ascending=False)\n",
    "# Buat variable baru yang mengambil berdasarkan index dan values\n",
    "gmyIndex = groupedMovieYearCount.index\n",
    "gmyValue = groupedMovieYearCount.values\n",
    "# Buat line chart\n",
    "figMovieYearCount = px.line(x=gmyIndex, \n",
    "              y=gmyValue, \n",
    "              title='Total Movie each Year',\n",
    "              labels={'x': 'Year', 'y': 'Movie Count'},)\n",
    "figMovieYearCount.update_layout(title_x = 0.5)\n",
    "figMovieYearCount.update_layout(xaxis_title = 'Year',yaxis_title = 'Count Movie by Year')\n",
    "figMovieYearCount.show()"
   ]
  },
  {
   "cell_type": "markdown",
   "metadata": {},
   "source": [
    "Dari grafik <i>trend line</i> diatas dapat disimpulkan bahwa pembuatan **film terbanyak** terdapat pada tahun ```2023``` yang berjumlah ```810 films```"
   ]
  },
  {
   "cell_type": "markdown",
   "metadata": {},
   "source": [
    "## Inferential"
   ]
  },
  {
   "cell_type": "markdown",
   "metadata": {},
   "source": [
    "### 6. Apakah metascore mempengaruhi rating?"
   ]
  },
  {
   "cell_type": "markdown",
   "metadata": {},
   "source": [
    "Dalam menjawab pertanyaan ini, saya akan menggunakan spearman correlation<br>\n",
    "H0: Tidak ada korelasi di antara metascore dengan rating<br>\n",
    "H1: Ada korelasi di antara metascore dan rating"
   ]
  },
  {
   "cell_type": "code",
   "execution_count": 44,
   "metadata": {},
   "outputs": [
    {
     "name": "stdout",
     "output_type": "stream",
     "text": [
      "rho-correlation: 0.6046906557091831\n",
      "p-value: 0.0\n"
     ]
    }
   ],
   "source": [
    "# Hitung P-value dan rho-correlation\n",
    "spearman_corr, p_value = spearmanr(df_clean['Metascore'], df_clean['Rating'])\n",
    "\n",
    "print(\"rho-correlation:\", spearman_corr)\n",
    "print(\"p-value:\", p_value)"
   ]
  },
  {
   "cell_type": "markdown",
   "metadata": {},
   "source": [
    "Berdasarkan data diatas, karena P-value bernilai 0, maka H0 ditolak. Artinya ada korelasi di antara metascore dengan rating. Selain itu, rho-correlation bernilai 0.604 yang artinya memiliki korelasi yang positif dan berkorelasi sedang."
   ]
  },
  {
   "cell_type": "markdown",
   "metadata": {},
   "source": [
    "# Kesimpulan"
   ]
  },
  {
   "cell_type": "markdown",
   "metadata": {},
   "source": [
    "Setelah dilakukannya analisa mendalam dari dataset yang tersedia guna menjawab permasalahan yang sedang diteliti, maka saya akan menjabarkan kembali permasalahan yang diteliti.<br>\n",
    "\n",
    "Permasalahan pada kasus ini dapat dibentuk dengan metode analisa SMART, dengan penjabaran sebagai berikut:\n",
    "<ul>\n",
    "<li>Specific<br>\n",
    "Analisa apa yang mempengaruhi rating sebuah film supaya film yang akan dibuat memiliki rating yang bagus.<br><br></li>\n",
    "<li>Measurable<br>\n",
    "Seorang sutradara merencanakan membuat film dengan rating minimal 8 berdasarkan analisa yang sudah dibuat.<br><br></li>\n",
    "<li>Achievable<br>\n",
    "Tercapainya rating 8.0 berdasarkan analisa yang telah dilakukan.<br><br></li>\n",
    "<li>Relevant<br>\n",
    "Memiliki film dengan rating tinggi dapat menjadi daya tarik calon penonton untuk menonton film yang telah dibuat<br><br></li>\n",
    "<li>Time-bound<br>\n",
    "Projek ini diperkirakan akan selesai dalam 3 tahun untuk menghasilkan film dengan rating minimal 8.</li>\n",
    "</ul><br>\n",
    "Problem statement: Pembuatan sebuah film dalam waktu 3 tahun yang memiliki rating 8.0, berdasarkan analisa dari hal yang mempengaruhi tingginya rating pada sebuah film.\n",
    "\n",
    "Selanjutnya saya akan menjawab problem statement tersebut. Sesuai dengan hasil penelitian didapatkan beberapa faktor yang mempengaruhi rating diantaranya:\n",
    "<ol>\n",
    "<li>Banyaknya film yang disutradarai seorang sutradara<br>\n",
    "Dari hasil analisa dapat dilihat kembali bahwa semakin banyak seorang sutradara dalam membuat film maka rating memiliki kecenderungan untuk naik.</li>\n",
    "<li>Nilai dari metascore terhadap rating<br>\n",
    "Dari hasil pengujian statistik inferential pada pengaruh antara metascore dengan rating dapat disimpulkan bahwa metascore memiliki pengaruh terhadap naiknya rating, itu ditandai dengan p-value yang bernilai dibawah 0.05 yang berarti H1 diterima, yang dimana H1 adalah Ada korelasi antara metascore dengan rating</li>\n",
    "<li>Banyaknya votes terhadap validnya suatu rating<br>\n",
    "Rating yang tinggi dengan votes yang tinggi berarti lebih banyak orang yang memberikan nilai terhadap suatu film tersebut, dan dapat menarik lebih banyak peminat untuk menonton.</li>\n",
    "</ol>\n",
    "<h1>Time-bound</h1>\n",
    "Karena pembuatan film tidak bisa selesai dalam waktu singkat maka prrojek ini diperkirakan akan selesai dalam waktu 3 tahun, berikut penjabaran <i>timeline</i>nya:\n",
    "<ol>\n",
    "<li>Setengah Tahun Pertama<br>\n",
    "Melakukan analisa dan pemilihan aktor</li>\n",
    "<li>Setengah Tahun Pertama Hingga Awal Tahun Kedua<br>\n",
    "Mulai melakukan shooting dari film yang sudah ditentukan</li>\n",
    "<li>Tahun Kedua<br>\n",
    "Melanjutkan shooting dan setelahnya dilakukan proses editing hingga awal tahun ke-3</li>\n",
    "<li>Tahun Ketiga<br>\n",
    "Pemantauan rating, metascore, votes dan review dari penonton. Lalu review hasil yang didapatkan.</li>\n",
    "</ol>\n",
    "\n",
    "<h1>Solusi dan Saran Permasalahan</h1>\n",
    "Pembuatan film yang ditujukan untuk mencapai goal yang sudah didefinisikan bisa dimulai dengan menargetkan metascore, karena tingginya metascore juga cenderung membuat rating menjadi tinggi. Selain itu <i>element</i> lain seperti votes juga harus dipertimbangkan demi menarik lebih banyak lagi calon penonton.<br><br>\n",
    "Karena salah satu point permasalahan adalah banyaknya film yang disutradarai juga dapat membuat rating memiliki kecenderungan naik, maka dari itu sebaiknya untuk terus berkarya dalam membuat film sehingga dikenal dan bisa dengan cepat mendapatkan rating yang diharapkan dan juga dengan rata-rata rating untuk direktor."
   ]
  }
 ],
 "metadata": {
  "kernelspec": {
   "display_name": "base",
   "language": "python",
   "name": "python3"
  },
  "language_info": {
   "codemirror_mode": {
    "name": "ipython",
    "version": 3
   },
   "file_extension": ".py",
   "mimetype": "text/x-python",
   "name": "python",
   "nbconvert_exporter": "python",
   "pygments_lexer": "ipython3",
   "version": "3.9.19"
  }
 },
 "nbformat": 4,
 "nbformat_minor": 2
}
